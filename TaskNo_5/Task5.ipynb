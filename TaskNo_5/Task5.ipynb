{
 "cells": [
  {
   "cell_type": "markdown",
   "id": "3b10c570",
   "metadata": {},
   "source": [
    "*import Libraries*"
   ]
  },
  {
   "cell_type": "code",
   "execution_count": 46,
   "id": "e8443f32",
   "metadata": {},
   "outputs": [],
   "source": [
    "import pandas as pd \n",
    "import numpy as np\n",
    "import matplotlib.pyplot as plt\n",
    "import seaborn as sns\n",
    "import plotly.express as px\n",
    "\n",
    "from sklearn.preprocessing import OrdinalEncoder, StandardScaler\n",
    "from sklearn.model_selection import train_test_split\n",
    "from sklearn.linear_model import LogisticRegression\n",
    "from sklearn.tree import DecisionTreeClassifier\n",
    "\n",
    "from sklearn.metrics import accuracy_score, classification_report, confusion_matrix\n",
    "from sklearn.model_selection import cross_val_score\n",
    "import plotly.graph_objects as go"
   ]
  },
  {
   "cell_type": "markdown",
   "id": "ee5dbd27",
   "metadata": {},
   "source": [
    "## 2. **Data Loading and exploration and cleaning**\n",
    " ↪ Load the csv file with pandas \n",
    "\n",
    " ↪ creating the dataframe and understanding the data present in the dataset using pandas\n",
    " \n",
    " ↪ Dealing with the missing data, outliers and the incorrect records"
   ]
  },
  {
   "cell_type": "code",
   "execution_count": 11,
   "id": "23e38fba",
   "metadata": {},
   "outputs": [
    {
     "data": {
      "text/html": [
       "<div>\n",
       "<style scoped>\n",
       "    .dataframe tbody tr th:only-of-type {\n",
       "        vertical-align: middle;\n",
       "    }\n",
       "\n",
       "    .dataframe tbody tr th {\n",
       "        vertical-align: top;\n",
       "    }\n",
       "\n",
       "    .dataframe thead th {\n",
       "        text-align: right;\n",
       "    }\n",
       "</style>\n",
       "<table border=\"1\" class=\"dataframe\">\n",
       "  <thead>\n",
       "    <tr style=\"text-align: right;\">\n",
       "      <th></th>\n",
       "      <th>ID</th>\n",
       "      <th>Age</th>\n",
       "      <th>Experience</th>\n",
       "      <th>Income</th>\n",
       "      <th>ZIP.Code</th>\n",
       "      <th>Family</th>\n",
       "      <th>CCAvg</th>\n",
       "      <th>Education</th>\n",
       "      <th>Mortgage</th>\n",
       "      <th>Personal.Loan</th>\n",
       "      <th>Securities.Account</th>\n",
       "      <th>CD.Account</th>\n",
       "      <th>Online</th>\n",
       "      <th>CreditCard</th>\n",
       "    </tr>\n",
       "  </thead>\n",
       "  <tbody>\n",
       "    <tr>\n",
       "      <th>0</th>\n",
       "      <td>1</td>\n",
       "      <td>25</td>\n",
       "      <td>1</td>\n",
       "      <td>49</td>\n",
       "      <td>91107</td>\n",
       "      <td>4</td>\n",
       "      <td>1.6</td>\n",
       "      <td>1</td>\n",
       "      <td>0</td>\n",
       "      <td>0</td>\n",
       "      <td>1</td>\n",
       "      <td>0</td>\n",
       "      <td>0</td>\n",
       "      <td>0</td>\n",
       "    </tr>\n",
       "    <tr>\n",
       "      <th>1</th>\n",
       "      <td>2</td>\n",
       "      <td>45</td>\n",
       "      <td>19</td>\n",
       "      <td>34</td>\n",
       "      <td>90089</td>\n",
       "      <td>3</td>\n",
       "      <td>1.5</td>\n",
       "      <td>1</td>\n",
       "      <td>0</td>\n",
       "      <td>0</td>\n",
       "      <td>1</td>\n",
       "      <td>0</td>\n",
       "      <td>0</td>\n",
       "      <td>0</td>\n",
       "    </tr>\n",
       "    <tr>\n",
       "      <th>2</th>\n",
       "      <td>3</td>\n",
       "      <td>39</td>\n",
       "      <td>15</td>\n",
       "      <td>11</td>\n",
       "      <td>94720</td>\n",
       "      <td>1</td>\n",
       "      <td>1.0</td>\n",
       "      <td>1</td>\n",
       "      <td>0</td>\n",
       "      <td>0</td>\n",
       "      <td>0</td>\n",
       "      <td>0</td>\n",
       "      <td>0</td>\n",
       "      <td>0</td>\n",
       "    </tr>\n",
       "    <tr>\n",
       "      <th>3</th>\n",
       "      <td>4</td>\n",
       "      <td>35</td>\n",
       "      <td>9</td>\n",
       "      <td>100</td>\n",
       "      <td>94112</td>\n",
       "      <td>1</td>\n",
       "      <td>2.7</td>\n",
       "      <td>2</td>\n",
       "      <td>0</td>\n",
       "      <td>0</td>\n",
       "      <td>0</td>\n",
       "      <td>0</td>\n",
       "      <td>0</td>\n",
       "      <td>0</td>\n",
       "    </tr>\n",
       "    <tr>\n",
       "      <th>4</th>\n",
       "      <td>5</td>\n",
       "      <td>35</td>\n",
       "      <td>8</td>\n",
       "      <td>45</td>\n",
       "      <td>91330</td>\n",
       "      <td>4</td>\n",
       "      <td>1.0</td>\n",
       "      <td>2</td>\n",
       "      <td>0</td>\n",
       "      <td>0</td>\n",
       "      <td>0</td>\n",
       "      <td>0</td>\n",
       "      <td>0</td>\n",
       "      <td>1</td>\n",
       "    </tr>\n",
       "  </tbody>\n",
       "</table>\n",
       "</div>"
      ],
      "text/plain": [
       "   ID  Age  Experience  Income  ZIP.Code  Family  CCAvg  Education  Mortgage  \\\n",
       "0   1   25           1      49     91107       4    1.6          1         0   \n",
       "1   2   45          19      34     90089       3    1.5          1         0   \n",
       "2   3   39          15      11     94720       1    1.0          1         0   \n",
       "3   4   35           9     100     94112       1    2.7          2         0   \n",
       "4   5   35           8      45     91330       4    1.0          2         0   \n",
       "\n",
       "   Personal.Loan  Securities.Account  CD.Account  Online  CreditCard  \n",
       "0              0                   1           0       0           0  \n",
       "1              0                   1           0       0           0  \n",
       "2              0                   0           0       0           0  \n",
       "3              0                   0           0       0           0  \n",
       "4              0                   0           0       0           1  "
      ]
     },
     "execution_count": 11,
     "metadata": {},
     "output_type": "execute_result"
    }
   ],
   "source": [
    "df = pd.read_csv('./bankloan.csv')\n",
    "df.head()"
   ]
  },
  {
   "cell_type": "markdown",
   "id": "2c7129ef",
   "metadata": {},
   "source": [
    "## Dataset Description :¶\n",
    "---\n",
    "- **ID** : ID of the customer.\n",
    "\n",
    "- **Age** : Age of the customer in years.\n",
    "\n",
    "- **Experience** : Amount of work experience in years.\n",
    "\n",
    "- **Income** : Amount of annual income (in thousands).\n",
    "\n",
    "- **Zipcode** : Postal code of the city in which the client lives.\n",
    "\n",
    "- **Family** : Number of family members.\n",
    "\n",
    "- **CCAvg** : Average monthly spending with the credit card (in thousands).\n",
    "\n",
    "- **Education** : Education level\n",
    "\n",
    "      1 : Bachelor's degree\n",
    "      2 : Master's degree\n",
    "      3 : Advanced/Professional degree.\n",
    "- **Mortgage**: Value of home mortgage, if any (in thousands).\n",
    "\n",
    "- **Securities Account** : Does the customer have a securities account with the bank?\n",
    "\n",
    "- **CD Account** : Does the customer have a certificate of deposit account (CD) with the bank?\n",
    "\n",
    "- **Online** : Does the customer use the internet banking facilities?\n",
    "\n",
    "- **CreditCard** : Does the customer use a credit card issued by the bank?\n",
    "\n",
    "- **Personal Loan** : Did this customer accept the personal loan offered in the last campaign?\n",
    "---\n",
    "- Exploring data shape\n",
    "\n",
    "- Verifying column name\n",
    "\n",
    "- verifying data types using **info** function"
   ]
  },
  {
   "cell_type": "code",
   "execution_count": 12,
   "id": "be6ce304",
   "metadata": {},
   "outputs": [
    {
     "data": {
      "text/plain": [
       "(5000, 14)"
      ]
     },
     "execution_count": 12,
     "metadata": {},
     "output_type": "execute_result"
    }
   ],
   "source": [
    "# shape\n",
    "df.shape"
   ]
  },
  {
   "cell_type": "code",
   "execution_count": 13,
   "id": "d70d94e7",
   "metadata": {},
   "outputs": [
    {
     "data": {
      "text/plain": [
       "Index(['ID', 'Age', 'Experience', 'Income', 'ZIP.Code', 'Family', 'CCAvg',\n",
       "       'Education', 'Mortgage', 'Personal.Loan', 'Securities.Account',\n",
       "       'CD.Account', 'Online', 'CreditCard'],\n",
       "      dtype='object')"
      ]
     },
     "execution_count": 13,
     "metadata": {},
     "output_type": "execute_result"
    }
   ],
   "source": [
    "# column name\n",
    "df.columns"
   ]
  },
  {
   "cell_type": "code",
   "execution_count": 14,
   "id": "51fd4a05",
   "metadata": {},
   "outputs": [
    {
     "name": "stdout",
     "output_type": "stream",
     "text": [
      "<class 'pandas.core.frame.DataFrame'>\n",
      "RangeIndex: 5000 entries, 0 to 4999\n",
      "Data columns (total 14 columns):\n",
      " #   Column              Non-Null Count  Dtype  \n",
      "---  ------              --------------  -----  \n",
      " 0   ID                  5000 non-null   int64  \n",
      " 1   Age                 5000 non-null   int64  \n",
      " 2   Experience          5000 non-null   int64  \n",
      " 3   Income              5000 non-null   int64  \n",
      " 4   ZIP.Code            5000 non-null   int64  \n",
      " 5   Family              5000 non-null   int64  \n",
      " 6   CCAvg               5000 non-null   float64\n",
      " 7   Education           5000 non-null   int64  \n",
      " 8   Mortgage            5000 non-null   int64  \n",
      " 9   Personal.Loan       5000 non-null   int64  \n",
      " 10  Securities.Account  5000 non-null   int64  \n",
      " 11  CD.Account          5000 non-null   int64  \n",
      " 12  Online              5000 non-null   int64  \n",
      " 13  CreditCard          5000 non-null   int64  \n",
      "dtypes: float64(1), int64(13)\n",
      "memory usage: 547.0 KB\n"
     ]
    }
   ],
   "source": [
    "df.info()"
   ]
  },
  {
   "cell_type": "markdown",
   "id": "fcd74c6a",
   "metadata": {},
   "source": [
    "## Observation\n",
    "---\n",
    "- **General Dataset Overview :**\n",
    "\n",
    "- **Dataset Size and Completeness:**\n",
    "\n",
    "-  The dataset comprises 5000 entries, and there are no missing or null values present in any column (5000 non-null entries) which ensurees that the dataset  is complete with no missing values.\n",
    "\n",
    "- **Data Types and Column Structure:**\n",
    "\n",
    "- All columns in the dataset contain numeric data.\n",
    "\n",
    "- The majority of columns are of integer type (int64), indicating whole numbers, such as ID, Age, Experience, Income, ZIP Code, Family, Education, Mortgage,  Personal Loan, Securities Account, CD Account, Online, and CreditCard.\n",
    "\n",
    "- One column, 'CCAvg', is represented as a floating-point number (float64), likely indicating fractional values for average credit card spending.\n",
    "\n",
    "- All columns have normal data types, and there are no observed data types that seem abnormal or unexpected."
   ]
  },
  {
   "cell_type": "code",
   "execution_count": 15,
   "id": "693f7015",
   "metadata": {},
   "outputs": [
    {
     "data": {
      "text/html": [
       "<div>\n",
       "<style scoped>\n",
       "    .dataframe tbody tr th:only-of-type {\n",
       "        vertical-align: middle;\n",
       "    }\n",
       "\n",
       "    .dataframe tbody tr th {\n",
       "        vertical-align: top;\n",
       "    }\n",
       "\n",
       "    .dataframe thead th {\n",
       "        text-align: right;\n",
       "    }\n",
       "</style>\n",
       "<table border=\"1\" class=\"dataframe\">\n",
       "  <thead>\n",
       "    <tr style=\"text-align: right;\">\n",
       "      <th></th>\n",
       "      <th>count</th>\n",
       "      <th>mean</th>\n",
       "      <th>std</th>\n",
       "      <th>min</th>\n",
       "      <th>25%</th>\n",
       "      <th>50%</th>\n",
       "      <th>75%</th>\n",
       "      <th>max</th>\n",
       "    </tr>\n",
       "  </thead>\n",
       "  <tbody>\n",
       "    <tr>\n",
       "      <th>ID</th>\n",
       "      <td>5000.0</td>\n",
       "      <td>2500.500000</td>\n",
       "      <td>1443.520003</td>\n",
       "      <td>1.0</td>\n",
       "      <td>1250.75</td>\n",
       "      <td>2500.5</td>\n",
       "      <td>3750.25</td>\n",
       "      <td>5000.0</td>\n",
       "    </tr>\n",
       "    <tr>\n",
       "      <th>Age</th>\n",
       "      <td>5000.0</td>\n",
       "      <td>45.338400</td>\n",
       "      <td>11.463166</td>\n",
       "      <td>23.0</td>\n",
       "      <td>35.00</td>\n",
       "      <td>45.0</td>\n",
       "      <td>55.00</td>\n",
       "      <td>67.0</td>\n",
       "    </tr>\n",
       "    <tr>\n",
       "      <th>Experience</th>\n",
       "      <td>5000.0</td>\n",
       "      <td>20.104600</td>\n",
       "      <td>11.467954</td>\n",
       "      <td>-3.0</td>\n",
       "      <td>10.00</td>\n",
       "      <td>20.0</td>\n",
       "      <td>30.00</td>\n",
       "      <td>43.0</td>\n",
       "    </tr>\n",
       "    <tr>\n",
       "      <th>Income</th>\n",
       "      <td>5000.0</td>\n",
       "      <td>73.774200</td>\n",
       "      <td>46.033729</td>\n",
       "      <td>8.0</td>\n",
       "      <td>39.00</td>\n",
       "      <td>64.0</td>\n",
       "      <td>98.00</td>\n",
       "      <td>224.0</td>\n",
       "    </tr>\n",
       "    <tr>\n",
       "      <th>ZIP.Code</th>\n",
       "      <td>5000.0</td>\n",
       "      <td>93152.503000</td>\n",
       "      <td>2121.852197</td>\n",
       "      <td>9307.0</td>\n",
       "      <td>91911.00</td>\n",
       "      <td>93437.0</td>\n",
       "      <td>94608.00</td>\n",
       "      <td>96651.0</td>\n",
       "    </tr>\n",
       "    <tr>\n",
       "      <th>Family</th>\n",
       "      <td>5000.0</td>\n",
       "      <td>2.396400</td>\n",
       "      <td>1.147663</td>\n",
       "      <td>1.0</td>\n",
       "      <td>1.00</td>\n",
       "      <td>2.0</td>\n",
       "      <td>3.00</td>\n",
       "      <td>4.0</td>\n",
       "    </tr>\n",
       "    <tr>\n",
       "      <th>CCAvg</th>\n",
       "      <td>5000.0</td>\n",
       "      <td>1.937938</td>\n",
       "      <td>1.747659</td>\n",
       "      <td>0.0</td>\n",
       "      <td>0.70</td>\n",
       "      <td>1.5</td>\n",
       "      <td>2.50</td>\n",
       "      <td>10.0</td>\n",
       "    </tr>\n",
       "    <tr>\n",
       "      <th>Education</th>\n",
       "      <td>5000.0</td>\n",
       "      <td>1.881000</td>\n",
       "      <td>0.839869</td>\n",
       "      <td>1.0</td>\n",
       "      <td>1.00</td>\n",
       "      <td>2.0</td>\n",
       "      <td>3.00</td>\n",
       "      <td>3.0</td>\n",
       "    </tr>\n",
       "    <tr>\n",
       "      <th>Mortgage</th>\n",
       "      <td>5000.0</td>\n",
       "      <td>56.498800</td>\n",
       "      <td>101.713802</td>\n",
       "      <td>0.0</td>\n",
       "      <td>0.00</td>\n",
       "      <td>0.0</td>\n",
       "      <td>101.00</td>\n",
       "      <td>635.0</td>\n",
       "    </tr>\n",
       "    <tr>\n",
       "      <th>Personal.Loan</th>\n",
       "      <td>5000.0</td>\n",
       "      <td>0.096000</td>\n",
       "      <td>0.294621</td>\n",
       "      <td>0.0</td>\n",
       "      <td>0.00</td>\n",
       "      <td>0.0</td>\n",
       "      <td>0.00</td>\n",
       "      <td>1.0</td>\n",
       "    </tr>\n",
       "    <tr>\n",
       "      <th>Securities.Account</th>\n",
       "      <td>5000.0</td>\n",
       "      <td>0.104400</td>\n",
       "      <td>0.305809</td>\n",
       "      <td>0.0</td>\n",
       "      <td>0.00</td>\n",
       "      <td>0.0</td>\n",
       "      <td>0.00</td>\n",
       "      <td>1.0</td>\n",
       "    </tr>\n",
       "    <tr>\n",
       "      <th>CD.Account</th>\n",
       "      <td>5000.0</td>\n",
       "      <td>0.060400</td>\n",
       "      <td>0.238250</td>\n",
       "      <td>0.0</td>\n",
       "      <td>0.00</td>\n",
       "      <td>0.0</td>\n",
       "      <td>0.00</td>\n",
       "      <td>1.0</td>\n",
       "    </tr>\n",
       "    <tr>\n",
       "      <th>Online</th>\n",
       "      <td>5000.0</td>\n",
       "      <td>0.596800</td>\n",
       "      <td>0.490589</td>\n",
       "      <td>0.0</td>\n",
       "      <td>0.00</td>\n",
       "      <td>1.0</td>\n",
       "      <td>1.00</td>\n",
       "      <td>1.0</td>\n",
       "    </tr>\n",
       "    <tr>\n",
       "      <th>CreditCard</th>\n",
       "      <td>5000.0</td>\n",
       "      <td>0.294000</td>\n",
       "      <td>0.455637</td>\n",
       "      <td>0.0</td>\n",
       "      <td>0.00</td>\n",
       "      <td>0.0</td>\n",
       "      <td>1.00</td>\n",
       "      <td>1.0</td>\n",
       "    </tr>\n",
       "  </tbody>\n",
       "</table>\n",
       "</div>"
      ],
      "text/plain": [
       "                     count          mean          std     min       25%  \\\n",
       "ID                  5000.0   2500.500000  1443.520003     1.0   1250.75   \n",
       "Age                 5000.0     45.338400    11.463166    23.0     35.00   \n",
       "Experience          5000.0     20.104600    11.467954    -3.0     10.00   \n",
       "Income              5000.0     73.774200    46.033729     8.0     39.00   \n",
       "ZIP.Code            5000.0  93152.503000  2121.852197  9307.0  91911.00   \n",
       "Family              5000.0      2.396400     1.147663     1.0      1.00   \n",
       "CCAvg               5000.0      1.937938     1.747659     0.0      0.70   \n",
       "Education           5000.0      1.881000     0.839869     1.0      1.00   \n",
       "Mortgage            5000.0     56.498800   101.713802     0.0      0.00   \n",
       "Personal.Loan       5000.0      0.096000     0.294621     0.0      0.00   \n",
       "Securities.Account  5000.0      0.104400     0.305809     0.0      0.00   \n",
       "CD.Account          5000.0      0.060400     0.238250     0.0      0.00   \n",
       "Online              5000.0      0.596800     0.490589     0.0      0.00   \n",
       "CreditCard          5000.0      0.294000     0.455637     0.0      0.00   \n",
       "\n",
       "                        50%       75%      max  \n",
       "ID                   2500.5   3750.25   5000.0  \n",
       "Age                    45.0     55.00     67.0  \n",
       "Experience             20.0     30.00     43.0  \n",
       "Income                 64.0     98.00    224.0  \n",
       "ZIP.Code            93437.0  94608.00  96651.0  \n",
       "Family                  2.0      3.00      4.0  \n",
       "CCAvg                   1.5      2.50     10.0  \n",
       "Education               2.0      3.00      3.0  \n",
       "Mortgage                0.0    101.00    635.0  \n",
       "Personal.Loan           0.0      0.00      1.0  \n",
       "Securities.Account      0.0      0.00      1.0  \n",
       "CD.Account              0.0      0.00      1.0  \n",
       "Online                  1.0      1.00      1.0  \n",
       "CreditCard              0.0      1.00      1.0  "
      ]
     },
     "execution_count": 15,
     "metadata": {},
     "output_type": "execute_result"
    }
   ],
   "source": [
    "df.describe().T"
   ]
  },
  {
   "cell_type": "markdown",
   "id": "0ee00ee2",
   "metadata": {},
   "source": [
    "## Observations :\n",
    "---\n",
    "- **Age**: Ranges from 23 to 67, with an average age of 45.34 and a moderate standard deviation of 11.46.\n",
    "\n",
    "- **Experience**: Contains values from -3 to 43 years. While the average experience is 20.10 years, some entries show negative experience,which detects a mistake or error, potentially will require data validation or cleansing.\n",
    "\n",
    "- **Income** : Displays wide income variability, ranging from 8 to 224. Average income is approximately 73.77, with a notable standard deviation of around 46.03, indicating a significant spread in income levels.\n",
    "\n",
    "- **Family** : Reflects family size with values ranging from 1 to 4 family members. The dataset's average family size is about 2.40, indicating most entries are from small to medium-sized families.\n",
    "\n",
    "- **Mortgage** :Reflects housing-related debt. Displays wide variability with an average mortgage amount of about 56.50 and a large standard deviation of approximately 101.71.\n",
    "\n",
    "- **Personal Loan, Securities Account, CD Account, Online, CreditCard**: Binary columns representing acceptance or possession of specific banking products or services.\n",
    "--- \n",
    "- Start the **Exploratory Data Analysis**.\n",
    "\n",
    "- Verifying that there are no duplicated ID's presented in the dataset to ensure correcteness"
   ]
  },
  {
   "cell_type": "code",
   "execution_count": 16,
   "id": "996da9cc",
   "metadata": {},
   "outputs": [
    {
     "data": {
      "text/plain": [
       "5000"
      ]
     },
     "execution_count": 16,
     "metadata": {},
     "output_type": "execute_result"
    }
   ],
   "source": [
    "df['ID'].nunique()\n"
   ]
  },
  {
   "cell_type": "code",
   "execution_count": 17,
   "id": "f2e6438c",
   "metadata": {},
   "outputs": [
    {
     "data": {
      "text/plain": [
       "0"
      ]
     },
     "execution_count": 17,
     "metadata": {},
     "output_type": "execute_result"
    }
   ],
   "source": [
    "df.duplicated().sum()"
   ]
  },
  {
   "cell_type": "markdown",
   "id": "7af41da7",
   "metadata": {},
   "source": [
    "- No Duplicated ID's Presented \n",
    "\n",
    "- And not have any other duplicates \n",
    "\n",
    "- Considering the previous observations and summary, we've decided to drop the ZipCodes and ID columns as they are not conducive for further analysis or predictive modeling."
   ]
  },
  {
   "cell_type": "code",
   "execution_count": 18,
   "id": "de2c80f1",
   "metadata": {},
   "outputs": [],
   "source": [
    "df.drop(['ID','ZIP.Code'],axis=1,inplace=True)"
   ]
  },
  {
   "cell_type": "markdown",
   "id": "4b3df39c",
   "metadata": {},
   "source": [
    "- Analyzing the distribution of class counts within our target variable.¶"
   ]
  },
  {
   "cell_type": "code",
   "execution_count": 19,
   "id": "de6c81a4",
   "metadata": {},
   "outputs": [
    {
     "data": {
      "text/plain": [
       "0    4520\n",
       "1     480\n",
       "Name: Personal.Loan, dtype: int64"
      ]
     },
     "execution_count": 19,
     "metadata": {},
     "output_type": "execute_result"
    }
   ],
   "source": [
    "df['Personal.Loan'].value_counts()"
   ]
  },
  {
   "cell_type": "markdown",
   "id": "5b80cf36",
   "metadata": {},
   "source": [
    "- Among the bank's clients, a substantial majority, 4520, declined the offered personal loan, while only a smaller subset, roughly 500 individuals, accepted it.\n",
    "\n",
    "- This also reveals a significant bias toward a particular class (0), suggesting the potential necessity for further upsampling to enhance the model's performance."
   ]
  },
  {
   "cell_type": "code",
   "execution_count": 20,
   "id": "00b7534d",
   "metadata": {},
   "outputs": [
    {
     "data": {
      "image/png": "[encoded data removed]",
      "text/plain": [
       "<Figure size 1200x800 with 4 Axes>"
      ]
     },
     "metadata": {},
     "output_type": "display_data"
    }
   ],
   "source": [
    "boolean_columns = [ 'CD.Account', 'Securities.Account', 'Online', 'CreditCard']\n",
    "fig, axes = plt.subplots(nrows=2, ncols=2, figsize=(12, 8))\n",
    "\n",
    "for i, col in enumerate(boolean_columns[:4]):\n",
    "    sns.countplot(x=col, data=df, ax=axes[i//2, i%2], palette='Set2')\n",
    "    axes[i//2, i%2].set_title(f'Count Plot of {col}', fontsize=14)\n",
    "    axes[i//2, i%2].set_xlabel(col, fontsize=12)\n",
    "    axes[i//2, i%2].set_ylabel('Count', fontsize=12)\n",
    "    axes[i//2, i%2].tick_params(labelsize=10)\n",
    "\n",
    "plt.tight_layout()\n",
    "plt.show()"
   ]
  },
  {
   "cell_type": "markdown",
   "id": "2f7082c0",
   "metadata": {},
   "source": [
    "## Observation\n",
    "---\n",
    "- Most clients at this bank don't have a CD account, which shows that this service is not widely used.\n",
    "\n",
    "- There's also a lack of securities accounts among clients, hinting at low interest or participation in the bank's investment products.\n",
    "\n",
    "- Many clients don't use the bank's credit cards, perhaps preferring other credit options or payment methods.\n",
    "\n",
    "- On the flip side, a significant number of clients actively use the bank's online banking services, indicating a higher adoption rate for this service.\n",
    "\n",
    "- These observations suggests that the bank might need to reconsider or enhance its offerings in certain areas.\n",
    "\n",
    "- There could be an opportunity to promote and make CD accounts more attractive to customers.\n",
    "\n",
    "- The bank might need to review or promote its investment products to increase customer engagement.\n",
    "\n",
    "- Exploring credit card features or benefits could motivate more clients to use the bank's credit cards.\n",
    "\n",
    "- Utilizing and expanding the existing high usage of online banking services could significantly enhance overall customer satisfaction and convenience"
   ]
  },
  {
   "cell_type": "code",
   "execution_count": 21,
   "id": "c6756772",
   "metadata": {},
   "outputs": [
    {
     "data": {
      "text/plain": [
       "1    1472\n",
       "2    1296\n",
       "4    1222\n",
       "3    1010\n",
       "Name: Family, dtype: int64"
      ]
     },
     "execution_count": 21,
     "metadata": {},
     "output_type": "execute_result"
    }
   ],
   "source": [
    "df['Family'].value_counts()"
   ]
  },
  {
   "cell_type": "code",
   "execution_count": 22,
   "id": "f889bfa8",
   "metadata": {},
   "outputs": [
    {
     "data": {
      "text/plain": [
       "1    2096\n",
       "3    1501\n",
       "2    1403\n",
       "Name: Education, dtype: int64"
      ]
     },
     "execution_count": 22,
     "metadata": {},
     "output_type": "execute_result"
    }
   ],
   "source": [
    "df['Education'].value_counts()"
   ]
  },
  {
   "cell_type": "markdown",
   "id": "97d75b39",
   "metadata": {},
   "source": [
    "- The distribution of family members appears to be evenly represented within the dataset.\n",
    "\n",
    "- Majority of bank clients are of Bachleor's degree."
   ]
  },
  {
   "cell_type": "code",
   "execution_count": 23,
   "id": "a67c7fa5",
   "metadata": {},
   "outputs": [
    {
     "data": {
      "text/html": [
       "<div>\n",
       "<style scoped>\n",
       "    .dataframe tbody tr th:only-of-type {\n",
       "        vertical-align: middle;\n",
       "    }\n",
       "\n",
       "    .dataframe tbody tr th {\n",
       "        vertical-align: top;\n",
       "    }\n",
       "\n",
       "    .dataframe thead th {\n",
       "        text-align: right;\n",
       "    }\n",
       "</style>\n",
       "<table border=\"1\" class=\"dataframe\">\n",
       "  <thead>\n",
       "    <tr style=\"text-align: right;\">\n",
       "      <th></th>\n",
       "      <th>Personal.Loan</th>\n",
       "      <th>Education</th>\n",
       "    </tr>\n",
       "  </thead>\n",
       "  <tbody>\n",
       "    <tr>\n",
       "      <th>0</th>\n",
       "      <td>0</td>\n",
       "      <td>Bachleor degree</td>\n",
       "    </tr>\n",
       "    <tr>\n",
       "      <th>1</th>\n",
       "      <td>1</td>\n",
       "      <td>Advanced/Professional</td>\n",
       "    </tr>\n",
       "  </tbody>\n",
       "</table>\n",
       "</div>"
      ],
      "text/plain": [
       "   Personal.Loan              Education\n",
       "0              0        Bachleor degree\n",
       "1              1  Advanced/Professional"
      ]
     },
     "metadata": {},
     "output_type": "display_data"
    }
   ],
   "source": [
    "def rename_education(df):\n",
    "    # Mapping education codes to degree names\n",
    "    education_mapping = {\n",
    "        1: 'Bachleor degree',\n",
    "        2: 'Masters',\n",
    "        3: 'Advanced/Professional'\n",
    "    }\n",
    "\n",
    "    # Calculate the mode education level for each 'Personal Loan' category\n",
    "    mode_education = df.groupby('Personal.Loan')['Education'].agg(lambda x: x.mode().iloc[0])\n",
    "\n",
    "    # Map education codes to degree names\n",
    "    mode_education = mode_education.reset_index()\n",
    "    mode_education['Education'] = mode_education['Education'].map(education_mapping)\n",
    "\n",
    "    return mode_education\n",
    "\n",
    "result = rename_education(df)\n",
    "display(result)"
   ]
  },
  {
   "cell_type": "markdown",
   "id": "9966444a",
   "metadata": {},
   "source": [
    "## Observation\n",
    "---\n",
    "- Among the 500 individuals who accepted the bank's offered loans, a significant majority hold advanced degrees.\n",
    "\n",
    "- The majority of customers who did not get the loan offer hold bachelor's degrees. This might suggest that they are predominantly undergraduates or individuals early in their careers, possibly explaining their lower incomes, which could be a reason for the declined loan offers."
   ]
  },
  {
   "cell_type": "code",
   "execution_count": 24,
   "id": "d0607d6e",
   "metadata": {},
   "outputs": [
    {
     "data": {
      "text/html": [
       "<div>\n",
       "<style scoped>\n",
       "    .dataframe tbody tr th:only-of-type {\n",
       "        vertical-align: middle;\n",
       "    }\n",
       "\n",
       "    .dataframe tbody tr th {\n",
       "        vertical-align: top;\n",
       "    }\n",
       "\n",
       "    .dataframe thead th {\n",
       "        text-align: right;\n",
       "    }\n",
       "</style>\n",
       "<table border=\"1\" class=\"dataframe\">\n",
       "  <thead>\n",
       "    <tr style=\"text-align: right;\">\n",
       "      <th></th>\n",
       "      <th>Personal.Loan</th>\n",
       "    </tr>\n",
       "  </thead>\n",
       "  <tbody>\n",
       "    <tr>\n",
       "      <th>Personal.Loan</th>\n",
       "      <td>1.000000</td>\n",
       "    </tr>\n",
       "    <tr>\n",
       "      <th>Income</th>\n",
       "      <td>0.502462</td>\n",
       "    </tr>\n",
       "    <tr>\n",
       "      <th>CCAvg</th>\n",
       "      <td>0.366889</td>\n",
       "    </tr>\n",
       "    <tr>\n",
       "      <th>CD.Account</th>\n",
       "      <td>0.316355</td>\n",
       "    </tr>\n",
       "    <tr>\n",
       "      <th>Mortgage</th>\n",
       "      <td>0.142095</td>\n",
       "    </tr>\n",
       "    <tr>\n",
       "      <th>Education</th>\n",
       "      <td>0.136722</td>\n",
       "    </tr>\n",
       "    <tr>\n",
       "      <th>Family</th>\n",
       "      <td>0.061367</td>\n",
       "    </tr>\n",
       "    <tr>\n",
       "      <th>Securities.Account</th>\n",
       "      <td>0.021954</td>\n",
       "    </tr>\n",
       "    <tr>\n",
       "      <th>Online</th>\n",
       "      <td>0.006278</td>\n",
       "    </tr>\n",
       "    <tr>\n",
       "      <th>CreditCard</th>\n",
       "      <td>0.002802</td>\n",
       "    </tr>\n",
       "    <tr>\n",
       "      <th>Experience</th>\n",
       "      <td>-0.007413</td>\n",
       "    </tr>\n",
       "    <tr>\n",
       "      <th>Age</th>\n",
       "      <td>-0.007726</td>\n",
       "    </tr>\n",
       "  </tbody>\n",
       "</table>\n",
       "</div>"
      ],
      "text/plain": [
       "                    Personal.Loan\n",
       "Personal.Loan            1.000000\n",
       "Income                   0.502462\n",
       "CCAvg                    0.366889\n",
       "CD.Account               0.316355\n",
       "Mortgage                 0.142095\n",
       "Education                0.136722\n",
       "Family                   0.061367\n",
       "Securities.Account       0.021954\n",
       "Online                   0.006278\n",
       "CreditCard               0.002802\n",
       "Experience              -0.007413\n",
       "Age                     -0.007726"
      ]
     },
     "metadata": {},
     "output_type": "display_data"
    }
   ],
   "source": [
    "correlation = df.corr()[['Personal.Loan']].sort_values(by= 'Personal.Loan', ascending= False)\n",
    "display(correlation)"
   ]
  },
  {
   "cell_type": "markdown",
   "id": "b80b5a8e",
   "metadata": {},
   "source": [
    "## Observation\n",
    "---\n",
    "- **Based on the Correlation values with Target** :\n",
    "\n",
    "- **Strong Influences on Personal Loan Decision:**\n",
    "\n",
    "- Higher income and average credit card spending show moderate positive correlations with taking a personal loan.\n",
    "\n",
    "- Having a certificate of deposit account also moderately influences opting for a personal loan.\n",
    "\n",
    "- **Weaker Influences**:\n",
    "\n",
    "- Education, mortgage, family size, securities account, online usage, and owning a credit card display weaker, minimal, or almost negligible correlations with personal loan decisions.\n",
    "\n",
    "- Experience and age have weak negative correlations, indicating minor inverse influence on the outcome.\n",
    "---\n",
    "- **Considering the Analysis and Domain Understanding**:\n",
    "\n",
    "- Income, CCAvg, CD Account, and Mortgage values significantly influence predicting loan acceptance. These attributes showcase notable correlations, indicating a higher likelihood of accepting a personal loan among individuals with higher incomes, increased credit card spending, possession of a CD account, and substantial mortgage values.\n",
    "\n",
    "- Despite the negative correlation, Age remains crucial for loan acceptance prediction. While very young or elderly individuals might face challenges in loan approval, those within the middle age range are more likely to be accepted for loans.\n",
    "\n",
    "- Number of family members can be an influential factor. Applicants with larger families and stable incomes might qualify as potential candidates for loan acceptance.\n",
    "\n",
    "- Conversely, columns such as Securities Account, Online, and CreditCard exhibit negligible correlations with loan acceptance. These features might not significantly contribute to predicting whether a person will be accepted for a loan or not.\n",
    "\n",
    "- Experience holds a less influential role individually. However, when considered in conjunction with age, individuals with substantial experience and average age could be preferable candidates for loan acceptance.\n",
    "\n",
    "- This detailed conclusion sheds light on the main factors affecting loan acceptance and those with less impact. These insights aid in crafting a more accurate predictive model for loan approval.\n",
    "\n"
   ]
  },
  {
   "cell_type": "markdown",
   "id": "511feaca",
   "metadata": {},
   "source": [
    "**Data Preprocessing¶**\n",
    "\n",
    "**Wrong entries¶**\n",
    "\n",
    "- During the initial examination of the dataset, an anomaly was identified within the 'Experience' column, uncovering instances with negative values. It's crucial to rectify this issue as part of the data preprocessing phase."
   ]
  },
  {
   "cell_type": "code",
   "execution_count": 25,
   "id": "bfac2ec8",
   "metadata": {},
   "outputs": [
    {
     "data": {
      "text/html": [
       "<div>\n",
       "<style scoped>\n",
       "    .dataframe tbody tr th:only-of-type {\n",
       "        vertical-align: middle;\n",
       "    }\n",
       "\n",
       "    .dataframe tbody tr th {\n",
       "        vertical-align: top;\n",
       "    }\n",
       "\n",
       "    .dataframe thead th {\n",
       "        text-align: right;\n",
       "    }\n",
       "</style>\n",
       "<table border=\"1\" class=\"dataframe\">\n",
       "  <thead>\n",
       "    <tr style=\"text-align: right;\">\n",
       "      <th></th>\n",
       "      <th>Age</th>\n",
       "      <th>Experience</th>\n",
       "      <th>Income</th>\n",
       "      <th>Family</th>\n",
       "      <th>CCAvg</th>\n",
       "      <th>Education</th>\n",
       "      <th>Mortgage</th>\n",
       "      <th>Personal.Loan</th>\n",
       "      <th>Securities.Account</th>\n",
       "      <th>CD.Account</th>\n",
       "      <th>Online</th>\n",
       "      <th>CreditCard</th>\n",
       "    </tr>\n",
       "  </thead>\n",
       "  <tbody>\n",
       "    <tr>\n",
       "      <th>89</th>\n",
       "      <td>25</td>\n",
       "      <td>-1</td>\n",
       "      <td>113</td>\n",
       "      <td>4</td>\n",
       "      <td>2.30</td>\n",
       "      <td>3</td>\n",
       "      <td>0</td>\n",
       "      <td>0</td>\n",
       "      <td>0</td>\n",
       "      <td>0</td>\n",
       "      <td>0</td>\n",
       "      <td>1</td>\n",
       "    </tr>\n",
       "    <tr>\n",
       "      <th>226</th>\n",
       "      <td>24</td>\n",
       "      <td>-1</td>\n",
       "      <td>39</td>\n",
       "      <td>2</td>\n",
       "      <td>1.70</td>\n",
       "      <td>2</td>\n",
       "      <td>0</td>\n",
       "      <td>0</td>\n",
       "      <td>0</td>\n",
       "      <td>0</td>\n",
       "      <td>0</td>\n",
       "      <td>0</td>\n",
       "    </tr>\n",
       "    <tr>\n",
       "      <th>315</th>\n",
       "      <td>24</td>\n",
       "      <td>-2</td>\n",
       "      <td>51</td>\n",
       "      <td>3</td>\n",
       "      <td>0.30</td>\n",
       "      <td>3</td>\n",
       "      <td>0</td>\n",
       "      <td>0</td>\n",
       "      <td>0</td>\n",
       "      <td>0</td>\n",
       "      <td>1</td>\n",
       "      <td>0</td>\n",
       "    </tr>\n",
       "    <tr>\n",
       "      <th>451</th>\n",
       "      <td>28</td>\n",
       "      <td>-2</td>\n",
       "      <td>48</td>\n",
       "      <td>2</td>\n",
       "      <td>1.75</td>\n",
       "      <td>3</td>\n",
       "      <td>89</td>\n",
       "      <td>0</td>\n",
       "      <td>0</td>\n",
       "      <td>0</td>\n",
       "      <td>1</td>\n",
       "      <td>0</td>\n",
       "    </tr>\n",
       "    <tr>\n",
       "      <th>524</th>\n",
       "      <td>24</td>\n",
       "      <td>-1</td>\n",
       "      <td>75</td>\n",
       "      <td>4</td>\n",
       "      <td>0.20</td>\n",
       "      <td>1</td>\n",
       "      <td>0</td>\n",
       "      <td>0</td>\n",
       "      <td>0</td>\n",
       "      <td>0</td>\n",
       "      <td>1</td>\n",
       "      <td>0</td>\n",
       "    </tr>\n",
       "    <tr>\n",
       "      <th>536</th>\n",
       "      <td>25</td>\n",
       "      <td>-1</td>\n",
       "      <td>43</td>\n",
       "      <td>3</td>\n",
       "      <td>2.40</td>\n",
       "      <td>2</td>\n",
       "      <td>176</td>\n",
       "      <td>0</td>\n",
       "      <td>0</td>\n",
       "      <td>0</td>\n",
       "      <td>1</td>\n",
       "      <td>0</td>\n",
       "    </tr>\n",
       "    <tr>\n",
       "      <th>540</th>\n",
       "      <td>25</td>\n",
       "      <td>-1</td>\n",
       "      <td>109</td>\n",
       "      <td>4</td>\n",
       "      <td>2.30</td>\n",
       "      <td>3</td>\n",
       "      <td>314</td>\n",
       "      <td>0</td>\n",
       "      <td>0</td>\n",
       "      <td>0</td>\n",
       "      <td>1</td>\n",
       "      <td>0</td>\n",
       "    </tr>\n",
       "    <tr>\n",
       "      <th>576</th>\n",
       "      <td>25</td>\n",
       "      <td>-1</td>\n",
       "      <td>48</td>\n",
       "      <td>3</td>\n",
       "      <td>0.30</td>\n",
       "      <td>3</td>\n",
       "      <td>0</td>\n",
       "      <td>0</td>\n",
       "      <td>0</td>\n",
       "      <td>0</td>\n",
       "      <td>0</td>\n",
       "      <td>1</td>\n",
       "    </tr>\n",
       "    <tr>\n",
       "      <th>583</th>\n",
       "      <td>24</td>\n",
       "      <td>-1</td>\n",
       "      <td>38</td>\n",
       "      <td>2</td>\n",
       "      <td>1.70</td>\n",
       "      <td>2</td>\n",
       "      <td>0</td>\n",
       "      <td>0</td>\n",
       "      <td>0</td>\n",
       "      <td>0</td>\n",
       "      <td>1</td>\n",
       "      <td>0</td>\n",
       "    </tr>\n",
       "    <tr>\n",
       "      <th>597</th>\n",
       "      <td>24</td>\n",
       "      <td>-2</td>\n",
       "      <td>125</td>\n",
       "      <td>2</td>\n",
       "      <td>7.20</td>\n",
       "      <td>1</td>\n",
       "      <td>0</td>\n",
       "      <td>0</td>\n",
       "      <td>1</td>\n",
       "      <td>0</td>\n",
       "      <td>0</td>\n",
       "      <td>1</td>\n",
       "    </tr>\n",
       "    <tr>\n",
       "      <th>649</th>\n",
       "      <td>25</td>\n",
       "      <td>-1</td>\n",
       "      <td>82</td>\n",
       "      <td>4</td>\n",
       "      <td>2.10</td>\n",
       "      <td>3</td>\n",
       "      <td>0</td>\n",
       "      <td>0</td>\n",
       "      <td>0</td>\n",
       "      <td>0</td>\n",
       "      <td>1</td>\n",
       "      <td>0</td>\n",
       "    </tr>\n",
       "    <tr>\n",
       "      <th>670</th>\n",
       "      <td>23</td>\n",
       "      <td>-1</td>\n",
       "      <td>61</td>\n",
       "      <td>4</td>\n",
       "      <td>2.60</td>\n",
       "      <td>1</td>\n",
       "      <td>239</td>\n",
       "      <td>0</td>\n",
       "      <td>0</td>\n",
       "      <td>0</td>\n",
       "      <td>1</td>\n",
       "      <td>0</td>\n",
       "    </tr>\n",
       "    <tr>\n",
       "      <th>686</th>\n",
       "      <td>24</td>\n",
       "      <td>-1</td>\n",
       "      <td>38</td>\n",
       "      <td>4</td>\n",
       "      <td>0.60</td>\n",
       "      <td>2</td>\n",
       "      <td>0</td>\n",
       "      <td>0</td>\n",
       "      <td>0</td>\n",
       "      <td>0</td>\n",
       "      <td>1</td>\n",
       "      <td>0</td>\n",
       "    </tr>\n",
       "    <tr>\n",
       "      <th>793</th>\n",
       "      <td>24</td>\n",
       "      <td>-2</td>\n",
       "      <td>150</td>\n",
       "      <td>2</td>\n",
       "      <td>2.00</td>\n",
       "      <td>1</td>\n",
       "      <td>0</td>\n",
       "      <td>0</td>\n",
       "      <td>0</td>\n",
       "      <td>0</td>\n",
       "      <td>1</td>\n",
       "      <td>0</td>\n",
       "    </tr>\n",
       "    <tr>\n",
       "      <th>889</th>\n",
       "      <td>24</td>\n",
       "      <td>-2</td>\n",
       "      <td>82</td>\n",
       "      <td>2</td>\n",
       "      <td>1.60</td>\n",
       "      <td>3</td>\n",
       "      <td>0</td>\n",
       "      <td>0</td>\n",
       "      <td>0</td>\n",
       "      <td>0</td>\n",
       "      <td>1</td>\n",
       "      <td>1</td>\n",
       "    </tr>\n",
       "    <tr>\n",
       "      <th>909</th>\n",
       "      <td>23</td>\n",
       "      <td>-1</td>\n",
       "      <td>149</td>\n",
       "      <td>1</td>\n",
       "      <td>6.33</td>\n",
       "      <td>1</td>\n",
       "      <td>305</td>\n",
       "      <td>0</td>\n",
       "      <td>0</td>\n",
       "      <td>0</td>\n",
       "      <td>0</td>\n",
       "      <td>1</td>\n",
       "    </tr>\n",
       "    <tr>\n",
       "      <th>1173</th>\n",
       "      <td>24</td>\n",
       "      <td>-1</td>\n",
       "      <td>35</td>\n",
       "      <td>2</td>\n",
       "      <td>1.70</td>\n",
       "      <td>2</td>\n",
       "      <td>0</td>\n",
       "      <td>0</td>\n",
       "      <td>0</td>\n",
       "      <td>0</td>\n",
       "      <td>0</td>\n",
       "      <td>0</td>\n",
       "    </tr>\n",
       "    <tr>\n",
       "      <th>1428</th>\n",
       "      <td>25</td>\n",
       "      <td>-1</td>\n",
       "      <td>21</td>\n",
       "      <td>4</td>\n",
       "      <td>0.40</td>\n",
       "      <td>1</td>\n",
       "      <td>90</td>\n",
       "      <td>0</td>\n",
       "      <td>0</td>\n",
       "      <td>0</td>\n",
       "      <td>1</td>\n",
       "      <td>0</td>\n",
       "    </tr>\n",
       "    <tr>\n",
       "      <th>1522</th>\n",
       "      <td>25</td>\n",
       "      <td>-1</td>\n",
       "      <td>101</td>\n",
       "      <td>4</td>\n",
       "      <td>2.30</td>\n",
       "      <td>3</td>\n",
       "      <td>256</td>\n",
       "      <td>0</td>\n",
       "      <td>0</td>\n",
       "      <td>0</td>\n",
       "      <td>0</td>\n",
       "      <td>1</td>\n",
       "    </tr>\n",
       "    <tr>\n",
       "      <th>1905</th>\n",
       "      <td>25</td>\n",
       "      <td>-1</td>\n",
       "      <td>112</td>\n",
       "      <td>2</td>\n",
       "      <td>2.00</td>\n",
       "      <td>1</td>\n",
       "      <td>241</td>\n",
       "      <td>0</td>\n",
       "      <td>0</td>\n",
       "      <td>0</td>\n",
       "      <td>1</td>\n",
       "      <td>0</td>\n",
       "    </tr>\n",
       "    <tr>\n",
       "      <th>2102</th>\n",
       "      <td>25</td>\n",
       "      <td>-1</td>\n",
       "      <td>81</td>\n",
       "      <td>2</td>\n",
       "      <td>1.60</td>\n",
       "      <td>3</td>\n",
       "      <td>0</td>\n",
       "      <td>0</td>\n",
       "      <td>0</td>\n",
       "      <td>0</td>\n",
       "      <td>1</td>\n",
       "      <td>1</td>\n",
       "    </tr>\n",
       "    <tr>\n",
       "      <th>2430</th>\n",
       "      <td>23</td>\n",
       "      <td>-1</td>\n",
       "      <td>73</td>\n",
       "      <td>4</td>\n",
       "      <td>2.60</td>\n",
       "      <td>1</td>\n",
       "      <td>0</td>\n",
       "      <td>0</td>\n",
       "      <td>0</td>\n",
       "      <td>0</td>\n",
       "      <td>1</td>\n",
       "      <td>0</td>\n",
       "    </tr>\n",
       "    <tr>\n",
       "      <th>2466</th>\n",
       "      <td>24</td>\n",
       "      <td>-2</td>\n",
       "      <td>80</td>\n",
       "      <td>2</td>\n",
       "      <td>1.60</td>\n",
       "      <td>3</td>\n",
       "      <td>0</td>\n",
       "      <td>0</td>\n",
       "      <td>0</td>\n",
       "      <td>0</td>\n",
       "      <td>1</td>\n",
       "      <td>0</td>\n",
       "    </tr>\n",
       "    <tr>\n",
       "      <th>2545</th>\n",
       "      <td>25</td>\n",
       "      <td>-1</td>\n",
       "      <td>39</td>\n",
       "      <td>3</td>\n",
       "      <td>2.40</td>\n",
       "      <td>2</td>\n",
       "      <td>0</td>\n",
       "      <td>0</td>\n",
       "      <td>0</td>\n",
       "      <td>0</td>\n",
       "      <td>1</td>\n",
       "      <td>0</td>\n",
       "    </tr>\n",
       "    <tr>\n",
       "      <th>2618</th>\n",
       "      <td>23</td>\n",
       "      <td>-3</td>\n",
       "      <td>55</td>\n",
       "      <td>3</td>\n",
       "      <td>2.40</td>\n",
       "      <td>2</td>\n",
       "      <td>145</td>\n",
       "      <td>0</td>\n",
       "      <td>0</td>\n",
       "      <td>0</td>\n",
       "      <td>1</td>\n",
       "      <td>0</td>\n",
       "    </tr>\n",
       "    <tr>\n",
       "      <th>2717</th>\n",
       "      <td>23</td>\n",
       "      <td>-2</td>\n",
       "      <td>45</td>\n",
       "      <td>4</td>\n",
       "      <td>0.60</td>\n",
       "      <td>2</td>\n",
       "      <td>0</td>\n",
       "      <td>0</td>\n",
       "      <td>0</td>\n",
       "      <td>0</td>\n",
       "      <td>1</td>\n",
       "      <td>1</td>\n",
       "    </tr>\n",
       "    <tr>\n",
       "      <th>2848</th>\n",
       "      <td>24</td>\n",
       "      <td>-1</td>\n",
       "      <td>78</td>\n",
       "      <td>2</td>\n",
       "      <td>1.80</td>\n",
       "      <td>2</td>\n",
       "      <td>0</td>\n",
       "      <td>0</td>\n",
       "      <td>0</td>\n",
       "      <td>0</td>\n",
       "      <td>0</td>\n",
       "      <td>0</td>\n",
       "    </tr>\n",
       "    <tr>\n",
       "      <th>2876</th>\n",
       "      <td>24</td>\n",
       "      <td>-2</td>\n",
       "      <td>80</td>\n",
       "      <td>2</td>\n",
       "      <td>1.60</td>\n",
       "      <td>3</td>\n",
       "      <td>238</td>\n",
       "      <td>0</td>\n",
       "      <td>0</td>\n",
       "      <td>0</td>\n",
       "      <td>0</td>\n",
       "      <td>0</td>\n",
       "    </tr>\n",
       "    <tr>\n",
       "      <th>2962</th>\n",
       "      <td>23</td>\n",
       "      <td>-2</td>\n",
       "      <td>81</td>\n",
       "      <td>2</td>\n",
       "      <td>1.80</td>\n",
       "      <td>2</td>\n",
       "      <td>0</td>\n",
       "      <td>0</td>\n",
       "      <td>0</td>\n",
       "      <td>0</td>\n",
       "      <td>0</td>\n",
       "      <td>0</td>\n",
       "    </tr>\n",
       "    <tr>\n",
       "      <th>2980</th>\n",
       "      <td>25</td>\n",
       "      <td>-1</td>\n",
       "      <td>53</td>\n",
       "      <td>3</td>\n",
       "      <td>2.40</td>\n",
       "      <td>2</td>\n",
       "      <td>0</td>\n",
       "      <td>0</td>\n",
       "      <td>0</td>\n",
       "      <td>0</td>\n",
       "      <td>0</td>\n",
       "      <td>0</td>\n",
       "    </tr>\n",
       "    <tr>\n",
       "      <th>3076</th>\n",
       "      <td>29</td>\n",
       "      <td>-1</td>\n",
       "      <td>62</td>\n",
       "      <td>2</td>\n",
       "      <td>1.75</td>\n",
       "      <td>3</td>\n",
       "      <td>0</td>\n",
       "      <td>0</td>\n",
       "      <td>0</td>\n",
       "      <td>0</td>\n",
       "      <td>0</td>\n",
       "      <td>1</td>\n",
       "    </tr>\n",
       "    <tr>\n",
       "      <th>3130</th>\n",
       "      <td>23</td>\n",
       "      <td>-2</td>\n",
       "      <td>82</td>\n",
       "      <td>2</td>\n",
       "      <td>1.80</td>\n",
       "      <td>2</td>\n",
       "      <td>0</td>\n",
       "      <td>0</td>\n",
       "      <td>1</td>\n",
       "      <td>0</td>\n",
       "      <td>0</td>\n",
       "      <td>1</td>\n",
       "    </tr>\n",
       "    <tr>\n",
       "      <th>3157</th>\n",
       "      <td>23</td>\n",
       "      <td>-1</td>\n",
       "      <td>13</td>\n",
       "      <td>4</td>\n",
       "      <td>1.00</td>\n",
       "      <td>1</td>\n",
       "      <td>84</td>\n",
       "      <td>0</td>\n",
       "      <td>0</td>\n",
       "      <td>0</td>\n",
       "      <td>1</td>\n",
       "      <td>0</td>\n",
       "    </tr>\n",
       "    <tr>\n",
       "      <th>3279</th>\n",
       "      <td>26</td>\n",
       "      <td>-1</td>\n",
       "      <td>44</td>\n",
       "      <td>1</td>\n",
       "      <td>2.00</td>\n",
       "      <td>2</td>\n",
       "      <td>0</td>\n",
       "      <td>0</td>\n",
       "      <td>0</td>\n",
       "      <td>0</td>\n",
       "      <td>0</td>\n",
       "      <td>0</td>\n",
       "    </tr>\n",
       "    <tr>\n",
       "      <th>3284</th>\n",
       "      <td>25</td>\n",
       "      <td>-1</td>\n",
       "      <td>101</td>\n",
       "      <td>4</td>\n",
       "      <td>2.10</td>\n",
       "      <td>3</td>\n",
       "      <td>0</td>\n",
       "      <td>0</td>\n",
       "      <td>0</td>\n",
       "      <td>0</td>\n",
       "      <td>0</td>\n",
       "      <td>1</td>\n",
       "    </tr>\n",
       "    <tr>\n",
       "      <th>3292</th>\n",
       "      <td>25</td>\n",
       "      <td>-1</td>\n",
       "      <td>13</td>\n",
       "      <td>4</td>\n",
       "      <td>0.40</td>\n",
       "      <td>1</td>\n",
       "      <td>0</td>\n",
       "      <td>0</td>\n",
       "      <td>1</td>\n",
       "      <td>0</td>\n",
       "      <td>0</td>\n",
       "      <td>0</td>\n",
       "    </tr>\n",
       "    <tr>\n",
       "      <th>3394</th>\n",
       "      <td>25</td>\n",
       "      <td>-1</td>\n",
       "      <td>113</td>\n",
       "      <td>4</td>\n",
       "      <td>2.10</td>\n",
       "      <td>3</td>\n",
       "      <td>0</td>\n",
       "      <td>0</td>\n",
       "      <td>0</td>\n",
       "      <td>0</td>\n",
       "      <td>1</td>\n",
       "      <td>0</td>\n",
       "    </tr>\n",
       "    <tr>\n",
       "      <th>3425</th>\n",
       "      <td>23</td>\n",
       "      <td>-1</td>\n",
       "      <td>12</td>\n",
       "      <td>4</td>\n",
       "      <td>1.00</td>\n",
       "      <td>1</td>\n",
       "      <td>90</td>\n",
       "      <td>0</td>\n",
       "      <td>0</td>\n",
       "      <td>0</td>\n",
       "      <td>1</td>\n",
       "      <td>0</td>\n",
       "    </tr>\n",
       "    <tr>\n",
       "      <th>3626</th>\n",
       "      <td>24</td>\n",
       "      <td>-3</td>\n",
       "      <td>28</td>\n",
       "      <td>4</td>\n",
       "      <td>1.00</td>\n",
       "      <td>3</td>\n",
       "      <td>0</td>\n",
       "      <td>0</td>\n",
       "      <td>0</td>\n",
       "      <td>0</td>\n",
       "      <td>0</td>\n",
       "      <td>0</td>\n",
       "    </tr>\n",
       "    <tr>\n",
       "      <th>3796</th>\n",
       "      <td>24</td>\n",
       "      <td>-2</td>\n",
       "      <td>50</td>\n",
       "      <td>3</td>\n",
       "      <td>2.40</td>\n",
       "      <td>2</td>\n",
       "      <td>0</td>\n",
       "      <td>0</td>\n",
       "      <td>1</td>\n",
       "      <td>0</td>\n",
       "      <td>0</td>\n",
       "      <td>0</td>\n",
       "    </tr>\n",
       "    <tr>\n",
       "      <th>3824</th>\n",
       "      <td>23</td>\n",
       "      <td>-1</td>\n",
       "      <td>12</td>\n",
       "      <td>4</td>\n",
       "      <td>1.00</td>\n",
       "      <td>1</td>\n",
       "      <td>0</td>\n",
       "      <td>0</td>\n",
       "      <td>1</td>\n",
       "      <td>0</td>\n",
       "      <td>0</td>\n",
       "      <td>1</td>\n",
       "    </tr>\n",
       "    <tr>\n",
       "      <th>3887</th>\n",
       "      <td>24</td>\n",
       "      <td>-2</td>\n",
       "      <td>118</td>\n",
       "      <td>2</td>\n",
       "      <td>7.20</td>\n",
       "      <td>1</td>\n",
       "      <td>0</td>\n",
       "      <td>0</td>\n",
       "      <td>1</td>\n",
       "      <td>0</td>\n",
       "      <td>1</td>\n",
       "      <td>0</td>\n",
       "    </tr>\n",
       "    <tr>\n",
       "      <th>3946</th>\n",
       "      <td>25</td>\n",
       "      <td>-1</td>\n",
       "      <td>40</td>\n",
       "      <td>3</td>\n",
       "      <td>2.40</td>\n",
       "      <td>2</td>\n",
       "      <td>0</td>\n",
       "      <td>0</td>\n",
       "      <td>0</td>\n",
       "      <td>0</td>\n",
       "      <td>1</td>\n",
       "      <td>0</td>\n",
       "    </tr>\n",
       "    <tr>\n",
       "      <th>4015</th>\n",
       "      <td>25</td>\n",
       "      <td>-1</td>\n",
       "      <td>139</td>\n",
       "      <td>2</td>\n",
       "      <td>2.00</td>\n",
       "      <td>1</td>\n",
       "      <td>0</td>\n",
       "      <td>0</td>\n",
       "      <td>0</td>\n",
       "      <td>0</td>\n",
       "      <td>0</td>\n",
       "      <td>1</td>\n",
       "    </tr>\n",
       "    <tr>\n",
       "      <th>4088</th>\n",
       "      <td>29</td>\n",
       "      <td>-1</td>\n",
       "      <td>71</td>\n",
       "      <td>2</td>\n",
       "      <td>1.75</td>\n",
       "      <td>3</td>\n",
       "      <td>0</td>\n",
       "      <td>0</td>\n",
       "      <td>0</td>\n",
       "      <td>0</td>\n",
       "      <td>0</td>\n",
       "      <td>0</td>\n",
       "    </tr>\n",
       "    <tr>\n",
       "      <th>4116</th>\n",
       "      <td>24</td>\n",
       "      <td>-2</td>\n",
       "      <td>135</td>\n",
       "      <td>2</td>\n",
       "      <td>7.20</td>\n",
       "      <td>1</td>\n",
       "      <td>0</td>\n",
       "      <td>0</td>\n",
       "      <td>0</td>\n",
       "      <td>0</td>\n",
       "      <td>1</td>\n",
       "      <td>0</td>\n",
       "    </tr>\n",
       "    <tr>\n",
       "      <th>4285</th>\n",
       "      <td>23</td>\n",
       "      <td>-3</td>\n",
       "      <td>149</td>\n",
       "      <td>2</td>\n",
       "      <td>7.20</td>\n",
       "      <td>1</td>\n",
       "      <td>0</td>\n",
       "      <td>0</td>\n",
       "      <td>0</td>\n",
       "      <td>0</td>\n",
       "      <td>1</td>\n",
       "      <td>0</td>\n",
       "    </tr>\n",
       "    <tr>\n",
       "      <th>4411</th>\n",
       "      <td>23</td>\n",
       "      <td>-2</td>\n",
       "      <td>75</td>\n",
       "      <td>2</td>\n",
       "      <td>1.80</td>\n",
       "      <td>2</td>\n",
       "      <td>0</td>\n",
       "      <td>0</td>\n",
       "      <td>0</td>\n",
       "      <td>0</td>\n",
       "      <td>1</td>\n",
       "      <td>1</td>\n",
       "    </tr>\n",
       "    <tr>\n",
       "      <th>4481</th>\n",
       "      <td>25</td>\n",
       "      <td>-2</td>\n",
       "      <td>35</td>\n",
       "      <td>4</td>\n",
       "      <td>1.00</td>\n",
       "      <td>3</td>\n",
       "      <td>0</td>\n",
       "      <td>0</td>\n",
       "      <td>0</td>\n",
       "      <td>0</td>\n",
       "      <td>1</td>\n",
       "      <td>0</td>\n",
       "    </tr>\n",
       "    <tr>\n",
       "      <th>4514</th>\n",
       "      <td>24</td>\n",
       "      <td>-3</td>\n",
       "      <td>41</td>\n",
       "      <td>4</td>\n",
       "      <td>1.00</td>\n",
       "      <td>3</td>\n",
       "      <td>0</td>\n",
       "      <td>0</td>\n",
       "      <td>0</td>\n",
       "      <td>0</td>\n",
       "      <td>1</td>\n",
       "      <td>0</td>\n",
       "    </tr>\n",
       "    <tr>\n",
       "      <th>4582</th>\n",
       "      <td>25</td>\n",
       "      <td>-1</td>\n",
       "      <td>69</td>\n",
       "      <td>3</td>\n",
       "      <td>0.30</td>\n",
       "      <td>3</td>\n",
       "      <td>0</td>\n",
       "      <td>0</td>\n",
       "      <td>0</td>\n",
       "      <td>0</td>\n",
       "      <td>1</td>\n",
       "      <td>0</td>\n",
       "    </tr>\n",
       "    <tr>\n",
       "      <th>4957</th>\n",
       "      <td>29</td>\n",
       "      <td>-1</td>\n",
       "      <td>50</td>\n",
       "      <td>2</td>\n",
       "      <td>1.75</td>\n",
       "      <td>3</td>\n",
       "      <td>0</td>\n",
       "      <td>0</td>\n",
       "      <td>0</td>\n",
       "      <td>0</td>\n",
       "      <td>0</td>\n",
       "      <td>1</td>\n",
       "    </tr>\n",
       "  </tbody>\n",
       "</table>\n",
       "</div>"
      ],
      "text/plain": [
       "      Age  Experience  Income  Family  CCAvg  Education  Mortgage  \\\n",
       "89     25          -1     113       4   2.30          3         0   \n",
       "226    24          -1      39       2   1.70          2         0   \n",
       "315    24          -2      51       3   0.30          3         0   \n",
       "451    28          -2      48       2   1.75          3        89   \n",
       "524    24          -1      75       4   0.20          1         0   \n",
       "536    25          -1      43       3   2.40          2       176   \n",
       "540    25          -1     109       4   2.30          3       314   \n",
       "576    25          -1      48       3   0.30          3         0   \n",
       "583    24          -1      38       2   1.70          2         0   \n",
       "597    24          -2     125       2   7.20          1         0   \n",
       "649    25          -1      82       4   2.10          3         0   \n",
       "670    23          -1      61       4   2.60          1       239   \n",
       "686    24          -1      38       4   0.60          2         0   \n",
       "793    24          -2     150       2   2.00          1         0   \n",
       "889    24          -2      82       2   1.60          3         0   \n",
       "909    23          -1     149       1   6.33          1       305   \n",
       "1173   24          -1      35       2   1.70          2         0   \n",
       "1428   25          -1      21       4   0.40          1        90   \n",
       "1522   25          -1     101       4   2.30          3       256   \n",
       "1905   25          -1     112       2   2.00          1       241   \n",
       "2102   25          -1      81       2   1.60          3         0   \n",
       "2430   23          -1      73       4   2.60          1         0   \n",
       "2466   24          -2      80       2   1.60          3         0   \n",
       "2545   25          -1      39       3   2.40          2         0   \n",
       "2618   23          -3      55       3   2.40          2       145   \n",
       "2717   23          -2      45       4   0.60          2         0   \n",
       "2848   24          -1      78       2   1.80          2         0   \n",
       "2876   24          -2      80       2   1.60          3       238   \n",
       "2962   23          -2      81       2   1.80          2         0   \n",
       "2980   25          -1      53       3   2.40          2         0   \n",
       "3076   29          -1      62       2   1.75          3         0   \n",
       "3130   23          -2      82       2   1.80          2         0   \n",
       "3157   23          -1      13       4   1.00          1        84   \n",
       "3279   26          -1      44       1   2.00          2         0   \n",
       "3284   25          -1     101       4   2.10          3         0   \n",
       "3292   25          -1      13       4   0.40          1         0   \n",
       "3394   25          -1     113       4   2.10          3         0   \n",
       "3425   23          -1      12       4   1.00          1        90   \n",
       "3626   24          -3      28       4   1.00          3         0   \n",
       "3796   24          -2      50       3   2.40          2         0   \n",
       "3824   23          -1      12       4   1.00          1         0   \n",
       "3887   24          -2     118       2   7.20          1         0   \n",
       "3946   25          -1      40       3   2.40          2         0   \n",
       "4015   25          -1     139       2   2.00          1         0   \n",
       "4088   29          -1      71       2   1.75          3         0   \n",
       "4116   24          -2     135       2   7.20          1         0   \n",
       "4285   23          -3     149       2   7.20          1         0   \n",
       "4411   23          -2      75       2   1.80          2         0   \n",
       "4481   25          -2      35       4   1.00          3         0   \n",
       "4514   24          -3      41       4   1.00          3         0   \n",
       "4582   25          -1      69       3   0.30          3         0   \n",
       "4957   29          -1      50       2   1.75          3         0   \n",
       "\n",
       "      Personal.Loan  Securities.Account  CD.Account  Online  CreditCard  \n",
       "89                0                   0           0       0           1  \n",
       "226               0                   0           0       0           0  \n",
       "315               0                   0           0       1           0  \n",
       "451               0                   0           0       1           0  \n",
       "524               0                   0           0       1           0  \n",
       "536               0                   0           0       1           0  \n",
       "540               0                   0           0       1           0  \n",
       "576               0                   0           0       0           1  \n",
       "583               0                   0           0       1           0  \n",
       "597               0                   1           0       0           1  \n",
       "649               0                   0           0       1           0  \n",
       "670               0                   0           0       1           0  \n",
       "686               0                   0           0       1           0  \n",
       "793               0                   0           0       1           0  \n",
       "889               0                   0           0       1           1  \n",
       "909               0                   0           0       0           1  \n",
       "1173              0                   0           0       0           0  \n",
       "1428              0                   0           0       1           0  \n",
       "1522              0                   0           0       0           1  \n",
       "1905              0                   0           0       1           0  \n",
       "2102              0                   0           0       1           1  \n",
       "2430              0                   0           0       1           0  \n",
       "2466              0                   0           0       1           0  \n",
       "2545              0                   0           0       1           0  \n",
       "2618              0                   0           0       1           0  \n",
       "2717              0                   0           0       1           1  \n",
       "2848              0                   0           0       0           0  \n",
       "2876              0                   0           0       0           0  \n",
       "2962              0                   0           0       0           0  \n",
       "2980              0                   0           0       0           0  \n",
       "3076              0                   0           0       0           1  \n",
       "3130              0                   1           0       0           1  \n",
       "3157              0                   0           0       1           0  \n",
       "3279              0                   0           0       0           0  \n",
       "3284              0                   0           0       0           1  \n",
       "3292              0                   1           0       0           0  \n",
       "3394              0                   0           0       1           0  \n",
       "3425              0                   0           0       1           0  \n",
       "3626              0                   0           0       0           0  \n",
       "3796              0                   1           0       0           0  \n",
       "3824              0                   1           0       0           1  \n",
       "3887              0                   1           0       1           0  \n",
       "3946              0                   0           0       1           0  \n",
       "4015              0                   0           0       0           1  \n",
       "4088              0                   0           0       0           0  \n",
       "4116              0                   0           0       1           0  \n",
       "4285              0                   0           0       1           0  \n",
       "4411              0                   0           0       1           1  \n",
       "4481              0                   0           0       1           0  \n",
       "4514              0                   0           0       1           0  \n",
       "4582              0                   0           0       1           0  \n",
       "4957              0                   0           0       0           1  "
      ]
     },
     "execution_count": 25,
     "metadata": {},
     "output_type": "execute_result"
    }
   ],
   "source": [
    "df[df['Experience']< 0]"
   ]
  },
  {
   "cell_type": "markdown",
   "id": "61012187",
   "metadata": {},
   "source": [
    "- Upon closer examination, it appears that a a lot of records of the dataset contains negative values in the Experience column, signifying potential anomalies or errors within the data. To address this, we will employ the absolute function to transform these values and handle this errors."
   ]
  },
  {
   "cell_type": "code",
   "execution_count": 26,
   "id": "c5c9c985",
   "metadata": {},
   "outputs": [
    {
     "data": {
      "text/html": [
       "<div>\n",
       "<style scoped>\n",
       "    .dataframe tbody tr th:only-of-type {\n",
       "        vertical-align: middle;\n",
       "    }\n",
       "\n",
       "    .dataframe tbody tr th {\n",
       "        vertical-align: top;\n",
       "    }\n",
       "\n",
       "    .dataframe thead th {\n",
       "        text-align: right;\n",
       "    }\n",
       "</style>\n",
       "<table border=\"1\" class=\"dataframe\">\n",
       "  <thead>\n",
       "    <tr style=\"text-align: right;\">\n",
       "      <th></th>\n",
       "      <th>Age</th>\n",
       "      <th>Experience</th>\n",
       "      <th>Income</th>\n",
       "      <th>Family</th>\n",
       "      <th>CCAvg</th>\n",
       "      <th>Education</th>\n",
       "      <th>Mortgage</th>\n",
       "      <th>Personal.Loan</th>\n",
       "      <th>Securities.Account</th>\n",
       "      <th>CD.Account</th>\n",
       "      <th>Online</th>\n",
       "      <th>CreditCard</th>\n",
       "    </tr>\n",
       "  </thead>\n",
       "  <tbody>\n",
       "  </tbody>\n",
       "</table>\n",
       "</div>"
      ],
      "text/plain": [
       "Empty DataFrame\n",
       "Columns: [Age, Experience, Income, Family, CCAvg, Education, Mortgage, Personal.Loan, Securities.Account, CD.Account, Online, CreditCard]\n",
       "Index: []"
      ]
     },
     "execution_count": 26,
     "metadata": {},
     "output_type": "execute_result"
    }
   ],
   "source": [
    "df['Experience'] = abs(df['Experience'])\n",
    "df[df['Experience'] < 0]"
   ]
  },
  {
   "cell_type": "code",
   "execution_count": 27,
   "id": "6eb12c5c",
   "metadata": {},
   "outputs": [
    {
     "data": {
      "text/plain": [
       "Age                   0\n",
       "Experience            0\n",
       "Income                0\n",
       "Family                0\n",
       "CCAvg                 0\n",
       "Education             0\n",
       "Mortgage              0\n",
       "Personal.Loan         0\n",
       "Securities.Account    0\n",
       "CD.Account            0\n",
       "Online                0\n",
       "CreditCard            0\n",
       "dtype: int64"
      ]
     },
     "execution_count": 27,
     "metadata": {},
     "output_type": "execute_result"
    }
   ],
   "source": [
    "df.isnull().sum()"
   ]
  },
  {
   "cell_type": "markdown",
   "id": "66f0aa8a",
   "metadata": {},
   "source": [
    "- The dataset is clean and does not contain any missing or null values across its columns.\n",
    "\n",
    "- The absence of missing values ensures the dataset's cleanliness and completeness, providing a reliable foundation for analysis and modeling."
   ]
  },
  {
   "cell_type": "code",
   "execution_count": 28,
   "id": "b06d83a3",
   "metadata": {},
   "outputs": [
    {
     "data": {
      "text/plain": [
       "13"
      ]
     },
     "execution_count": 28,
     "metadata": {},
     "output_type": "execute_result"
    }
   ],
   "source": [
    "df.duplicated().sum()"
   ]
  },
  {
   "cell_type": "markdown",
   "id": "d512309a",
   "metadata": {},
   "source": [
    "- We've identified 13 duplicate rows within our dataset. \n",
    "\n",
    "- These duplicates will be removed to maintain the data's integrity and reliability."
   ]
  },
  {
   "cell_type": "code",
   "execution_count": 29,
   "id": "b3930511",
   "metadata": {},
   "outputs": [
    {
     "data": {
      "text/plain": [
       "0"
      ]
     },
     "execution_count": 29,
     "metadata": {},
     "output_type": "execute_result"
    }
   ],
   "source": [
    "df.drop_duplicates(inplace=True)\n",
    "# Check back for duplicates.\n",
    "\n",
    "df.duplicated().sum()"
   ]
  },
  {
   "cell_type": "markdown",
   "id": "14f344e0",
   "metadata": {},
   "source": [
    "- Now there is no duplicate \n",
    "\n",
    "- we need to check the outliers "
   ]
  },
  {
   "cell_type": "code",
   "execution_count": 30,
   "id": "7b6bea70",
   "metadata": {},
   "outputs": [
    {
     "data": {
      "image/png": "[encoded data removed]",
      "text/plain": [
       "<Figure size 1700x2000 with 8 Axes>"
      ]
     },
     "metadata": {},
     "output_type": "display_data"
    }
   ],
   "source": [
    "columns = df.drop(['Personal.Loan', 'Securities.Account',\n",
    "       'CD.Account', 'Online', 'CreditCard'],axis=1)\n",
    "\n",
    "num_cols = len(columns.columns)\n",
    "num_rows = (num_cols + 1) // 2  # Calculate the number of subplot rows\n",
    "\n",
    "fig, axs = plt.subplots(num_rows, 2, figsize=(17, 5 * num_rows))\n",
    "\n",
    "for i in range(num_rows):\n",
    "    for j in range(2):\n",
    "        col_idx = i * 2 + j\n",
    "        if col_idx < num_cols:\n",
    "            sns.boxplot(columns.iloc[:, col_idx], ax=axs[i, j], color='skyblue')\n",
    "            axs[i, j].set_title(columns.columns[col_idx])\n",
    "\n",
    "plt.tight_layout()\n",
    "plt.show()"
   ]
  },
  {
   "cell_type": "markdown",
   "id": "048ec397",
   "metadata": {},
   "source": [
    "- The box plots reveal that Age, Experience, Education, and Family columns lack outliers.\n",
    "\n",
    "- However, CCAvg, Mortgage, and Income columns exhibit a significant presence of outliers.\n",
    "\n",
    "- Checking for the number of outliers in these columns.¶"
   ]
  },
  {
   "cell_type": "code",
   "execution_count": 31,
   "id": "fd9c4b27",
   "metadata": {},
   "outputs": [
    {
     "name": "stdout",
     "output_type": "stream",
     "text": [
      "Number of outliers in Income : 96 ,It's Percentage is :  1.925005013033888 %\n",
      "\n",
      "\n",
      "Number of outliers in CCAvg : 301 ,It's Percentage is :  6.035692801283337 %\n",
      "\n",
      "\n",
      "Number of outliers in Mortgage : 291 ,It's Percentage is :  5.835171445758974 %\n",
      "\n",
      "\n"
     ]
    }
   ],
   "source": [
    "def find_outliers(df):\n",
    "\n",
    "  q1=df.quantile(0.25)\n",
    "\n",
    "  q3=df.quantile(0.75)\n",
    "\n",
    "  IQR=q3-q1\n",
    "\n",
    "  outliers = df[((df<(q1-1.5*IQR)) | (df>(q3+1.5*IQR)))]\n",
    "\n",
    "  return outliers\n",
    "for col in columns.drop(['Age','Experience','Family','Education'],axis=1).columns:\n",
    "    outliers=find_outliers(df[col])\n",
    "    print(\"Number of outliers in\",col,\":\", str(len(outliers)),\",It's Percentage is : \",str(len(outliers)*100/len(df)),\"%\")\n",
    "    print(\"\\n\")"
   ]
  },
  {
   "cell_type": "markdown",
   "id": "c3ae6268",
   "metadata": {},
   "source": [
    "- The percentages of outliers is relatively low. Before addressing them, let's examine their distribution for further handling."
   ]
  },
  {
   "cell_type": "code",
   "execution_count": 32,
   "id": "5f348bfe",
   "metadata": {},
   "outputs": [
    {
     "data": {
      "image/png": "[encoded data removed]",
      "text/plain": [
       "<Figure size 3000x1500 with 8 Axes>"
      ]
     },
     "metadata": {},
     "output_type": "display_data"
    }
   ],
   "source": [
    "dist_columns = ['Age', 'Experience', 'Income', 'Family', 'CCAvg', 'Education','Mortgage']  # Example columns\n",
    "\n",
    "fig, axes = plt.subplots(nrows=2, ncols=4, figsize=(30, 15))\n",
    "\n",
    "# Flattening the axes to iterate over them using enumerate\n",
    "axes = axes.flatten()\n",
    "\n",
    "for i, col in enumerate(dist_columns):\n",
    "    sns.histplot(df[col], kde=True, ax=axes[i], color='green')  # Plotting histogram for each specified column\n",
    "    axes[i].set_title(f'Histogram of {col}')  # Setting title for each subplot\n",
    "\n",
    "plt.tight_layout()  # Adjust layout to prevent overlapping\n",
    "plt.show()"
   ]
  },
  {
   "cell_type": "markdown",
   "id": "425880bf",
   "metadata": {},
   "source": [
    "## Observations :\n",
    "---\n",
    "- Most of the columns are normally distributed except the Income , CCavg , Mortgage and this very expected due to the number of outliers presented in them.\n",
    "\n",
    "- **Income** : The right-skewed distribution in the 'Income' column indicates that the majority of clients within this bank tend to have relatively lower incomes. This suggests that a significant portion of clients earns modestly, while a smaller fraction earns substantially higher incomes.\n",
    "\n",
    "- **CCAvg (Average Credit Card Spending)** : The right-skewed distribution in the 'CCAvg' column implies that most clients exhibit lower average spending on credit cards with zero is the most frequent value which indiciates that some of the clients does not spend using their credit card at all. This trend indicates that a majority of customers tend to have conservative spending habits on credit cards, with a few outliers who spend considerably higher amounts .\n",
    "\n",
    "- **Mortgage** : The right-skewed distribution of the 'Mortgage' column suggests that the majority of clients in this bank may not have substantial housing-related debts. It indicates that a larger segment of clients either do not hold mortgage loans or maintain lower mortgage amounts. However, there is a smaller subset with comparatively higher mortgage values.\n",
    "\n",
    "- The bank's customers primarily have majority of individuals with bachelor's degrees.\n",
    "\n",
    "- Majority of clients seem to belong to households with only one family member.\n",
    "\n",
    "- We can also observe that the age and experience columns match together with the same frequencies where higher ages values have the same frequncy of higher experinces and the opposite."
   ]
  },
  {
   "cell_type": "code",
   "execution_count": 33,
   "id": "8fb79afb",
   "metadata": {},
   "outputs": [
    {
     "data": {
      "image/png": "[encoded data removed]",
      "text/plain": [
       "<Figure size 2000x500 with 4 Axes>"
      ]
     },
     "metadata": {},
     "output_type": "display_data"
    },
    {
     "name": "stdout",
     "output_type": "stream",
     "text": [
      "\n",
      "\n"
     ]
    },
    {
     "data": {
      "image/png": "[encoded data removed]",
      "text/plain": [
       "<Figure size 2000x500 with 4 Axes>"
      ]
     },
     "metadata": {},
     "output_type": "display_data"
    },
    {
     "name": "stdout",
     "output_type": "stream",
     "text": [
      "\n",
      "\n"
     ]
    },
    {
     "data": {
      "image/png": "[encoded data removed]",
      "text/plain": [
       "<Figure size 2000x500 with 4 Axes>"
      ]
     },
     "metadata": {},
     "output_type": "display_data"
    },
    {
     "name": "stdout",
     "output_type": "stream",
     "text": [
      "\n",
      "\n"
     ]
    }
   ],
   "source": [
    "# Evaluating Various Transformation Methods for Skewed Columns.\n",
    "skewed_columns =['Income','CCAvg','Mortgage']\n",
    "\n",
    "for col in skewed_columns:\n",
    "    fig, axes = plt.subplots(1, 4, figsize=(20, 5))  # Create a 1x4 grid of subplots\n",
    "\n",
    "    # Log1p Transformation\n",
    "    sns.histplot(np.log1p(df[col]), color='green', ax=axes[0],kde=True)\n",
    "    axes[0].set_title(f'{col} with Log1p Transformation')\n",
    "\n",
    "    # Log Transformation\n",
    "    sns.histplot(np.log(df[col] + 1), color='orange', ax=axes[1],kde=True)\n",
    "    axes[1].set_title(f'{col} with Log Transformation')\n",
    "\n",
    "    # Cubic Root Transformation\n",
    "    sns.histplot(np.cbrt(df[col]), color='red', ax=axes[2],kde=True)\n",
    "    axes[2].set_title(f'{col} with Cubic Root Transformation')\n",
    "\n",
    "    # Square Root Transformation\n",
    "    sns.histplot(np.sqrt(df[col]), color='blue', ax=axes[3],kde=True)\n",
    "    axes[3].set_title(f'{col} with Square Root Transformation')\n",
    "    \n",
    "    plt.tight_layout()\n",
    "    plt.show()\n",
    "    print('\\n')\n",
    "    "
   ]
  },
  {
   "cell_type": "markdown",
   "id": "1900f163",
   "metadata": {},
   "source": [
    "## Observation\n",
    "---\n",
    "- **Income and CCAvg Columns** : The cubic root transformation appears to be the most suitable method for these columns.\n",
    "\n",
    "- **Mortgage Column** : The square root transformation seems to yield better results for this column."
   ]
  },
  {
   "cell_type": "code",
   "execution_count": 34,
   "id": "203fd509",
   "metadata": {},
   "outputs": [
    {
     "name": "stdout",
     "output_type": "stream",
     "text": [
      "Number of outliers in Income : 0 ,It's Percentage is :  0.0 %\n",
      "\n",
      "\n",
      "Number of outliers in CCAvg : 109 ,It's Percentage is :  2.1856827752155605 %\n",
      "\n",
      "\n",
      "Number of outliers in Mortgage : 1 ,It's Percentage is :  0.020052135552436335 %\n",
      "\n",
      "\n"
     ]
    }
   ],
   "source": [
    "df['Income'] = np.cbrt(df['Income'])\n",
    "df['CCAvg'] = np.cbrt(df['CCAvg'])\n",
    "df['Mortgage'] = np.sqrt(df['Mortgage'])\n",
    "\n",
    "# Let's re-examine the values of outliers again.\n",
    "for col in columns.drop(['Age','Experience','Family','Education'],axis=1).columns:\n",
    "    outliers=find_outliers(df[col])\n",
    "    print(\"Number of outliers in\",col,\":\", str(len(outliers)),\",It's Percentage is : \",str(len(outliers)*100/len(df)),\"%\")\n",
    "    print(\"\\n\")"
   ]
  },
  {
   "cell_type": "markdown",
   "id": "0f979914",
   "metadata": {},
   "source": [
    "- Outliers have been significantly reduced in number. To handle the remaining outlier values, we'll substitute them with the upper and lower limits specifically for the 'CCAvg' and 'Mortgage' columns."
   ]
  },
  {
   "cell_type": "code",
   "execution_count": 35,
   "id": "9b5e862d",
   "metadata": {},
   "outputs": [
    {
     "name": "stdout",
     "output_type": "stream",
     "text": [
      "Number of outliers in Income : 0 ,It's Percentage is :  0.0 %\n",
      "\n",
      "\n",
      "Number of outliers in CCAvg : 0 ,It's Percentage is :  0.0 %\n",
      "\n",
      "\n",
      "Number of outliers in Mortgage : 0 ,It's Percentage is :  0.0 %\n",
      "\n",
      "\n"
     ]
    }
   ],
   "source": [
    "def replace_outlier(col):\n",
    "    sorted(col) #sort column then get Q1, Q3 at 25% and 75% of sorted col\n",
    "    Q1, Q3 = col.quantile([0.25, 0.75])\n",
    "    IQR = Q3 - Q1\n",
    "    lower_range = Q1 - (1.5 * IQR)\n",
    "    upper_range = Q3 + (1.5 * IQR)\n",
    "    return lower_range, upper_range\n",
    "\n",
    "for col in ['CCAvg','Mortgage']:\n",
    "    lower_limit, upper_limit = replace_outlier(df[col]) #lower and upper range\n",
    "    df[col] = np.where(df[col] < lower_limit, lower_limit, df[col])\n",
    "    df[col] = np.where(df[col] > upper_limit, upper_limit, df[col])\n",
    "\n",
    "for col in columns.drop(['Age','Experience','Family','Education'],axis=1).columns:\n",
    "    outliers=find_outliers(df[col])\n",
    "    print(\"Number of outliers in\",col,\":\", str(len(outliers)),\",It's Percentage is : \",str(len(outliers)*100/len(df)),\"%\")\n",
    "    print(\"\\n\")\n"
   ]
  },
  {
   "cell_type": "markdown",
   "id": "72b16de1",
   "metadata": {},
   "source": [
    "- **Features Scaling.¶**\n",
    "\n",
    "- We'll apply the Standardization method to scale our data, enhancing the model's performance and ensuring standardized ranges of values for improved processing."
   ]
  },
  {
   "cell_type": "code",
   "execution_count": 36,
   "id": "c0ef5581",
   "metadata": {},
   "outputs": [
    {
     "data": {
      "text/html": [
       "<div>\n",
       "<style scoped>\n",
       "    .dataframe tbody tr th:only-of-type {\n",
       "        vertical-align: middle;\n",
       "    }\n",
       "\n",
       "    .dataframe tbody tr th {\n",
       "        vertical-align: top;\n",
       "    }\n",
       "\n",
       "    .dataframe thead th {\n",
       "        text-align: right;\n",
       "    }\n",
       "</style>\n",
       "<table border=\"1\" class=\"dataframe\">\n",
       "  <thead>\n",
       "    <tr style=\"text-align: right;\">\n",
       "      <th></th>\n",
       "      <th>Age</th>\n",
       "      <th>Experience</th>\n",
       "      <th>Income</th>\n",
       "      <th>Family</th>\n",
       "      <th>CCAvg</th>\n",
       "      <th>Education</th>\n",
       "      <th>Mortgage</th>\n",
       "      <th>Personal.Loan</th>\n",
       "      <th>Securities.Account</th>\n",
       "      <th>CD.Account</th>\n",
       "      <th>Online</th>\n",
       "      <th>CreditCard</th>\n",
       "    </tr>\n",
       "  </thead>\n",
       "  <tbody>\n",
       "    <tr>\n",
       "      <th>0</th>\n",
       "      <td>-1.775590</td>\n",
       "      <td>-1.677757</td>\n",
       "      <td>-0.391426</td>\n",
       "      <td>1.397399</td>\n",
       "      <td>0.101777</td>\n",
       "      <td>-1.047290</td>\n",
       "      <td>-0.637708</td>\n",
       "      <td>0</td>\n",
       "      <td>1</td>\n",
       "      <td>0</td>\n",
       "      <td>0</td>\n",
       "      <td>0</td>\n",
       "    </tr>\n",
       "    <tr>\n",
       "      <th>1</th>\n",
       "      <td>-0.030341</td>\n",
       "      <td>-0.100306</td>\n",
       "      <td>-0.864208</td>\n",
       "      <td>0.525860</td>\n",
       "      <td>0.036858</td>\n",
       "      <td>-1.047290</td>\n",
       "      <td>-0.637708</td>\n",
       "      <td>0</td>\n",
       "      <td>1</td>\n",
       "      <td>0</td>\n",
       "      <td>0</td>\n",
       "      <td>0</td>\n",
       "    </tr>\n",
       "    <tr>\n",
       "      <th>2</th>\n",
       "      <td>-0.553916</td>\n",
       "      <td>-0.450851</td>\n",
       "      <td>-2.008309</td>\n",
       "      <td>-1.217219</td>\n",
       "      <td>-0.340552</td>\n",
       "      <td>-1.047290</td>\n",
       "      <td>-0.637708</td>\n",
       "      <td>0</td>\n",
       "      <td>0</td>\n",
       "      <td>0</td>\n",
       "      <td>0</td>\n",
       "      <td>0</td>\n",
       "    </tr>\n",
       "    <tr>\n",
       "      <th>3</th>\n",
       "      <td>-0.902966</td>\n",
       "      <td>-0.976668</td>\n",
       "      <td>0.715108</td>\n",
       "      <td>-1.217219</td>\n",
       "      <td>0.683013</td>\n",
       "      <td>0.143778</td>\n",
       "      <td>-0.637708</td>\n",
       "      <td>0</td>\n",
       "      <td>0</td>\n",
       "      <td>0</td>\n",
       "      <td>0</td>\n",
       "      <td>0</td>\n",
       "    </tr>\n",
       "    <tr>\n",
       "      <th>4</th>\n",
       "      <td>-0.902966</td>\n",
       "      <td>-1.064304</td>\n",
       "      <td>-0.506793</td>\n",
       "      <td>1.397399</td>\n",
       "      <td>-0.340552</td>\n",
       "      <td>0.143778</td>\n",
       "      <td>-0.637708</td>\n",
       "      <td>0</td>\n",
       "      <td>0</td>\n",
       "      <td>0</td>\n",
       "      <td>0</td>\n",
       "      <td>1</td>\n",
       "    </tr>\n",
       "  </tbody>\n",
       "</table>\n",
       "</div>"
      ],
      "text/plain": [
       "        Age  Experience    Income    Family     CCAvg  Education  Mortgage  \\\n",
       "0 -1.775590   -1.677757 -0.391426  1.397399  0.101777  -1.047290 -0.637708   \n",
       "1 -0.030341   -0.100306 -0.864208  0.525860  0.036858  -1.047290 -0.637708   \n",
       "2 -0.553916   -0.450851 -2.008309 -1.217219 -0.340552  -1.047290 -0.637708   \n",
       "3 -0.902966   -0.976668  0.715108 -1.217219  0.683013   0.143778 -0.637708   \n",
       "4 -0.902966   -1.064304 -0.506793  1.397399 -0.340552   0.143778 -0.637708   \n",
       "\n",
       "   Personal.Loan  Securities.Account  CD.Account  Online  CreditCard  \n",
       "0              0                   1           0       0           0  \n",
       "1              0                   1           0       0           0  \n",
       "2              0                   0           0       0           0  \n",
       "3              0                   0           0       0           0  \n",
       "4              0                   0           0       0           1  "
      ]
     },
     "execution_count": 36,
     "metadata": {},
     "output_type": "execute_result"
    }
   ],
   "source": [
    "standard_scaler = StandardScaler()\n",
    "\n",
    "df_scaled = df.copy()\n",
    "\n",
    "column = ['Age', 'Experience', 'Income', 'Family', 'CCAvg', 'Education',\n",
    "       'Mortgage']\n",
    "\n",
    "for col in column: \n",
    "       df_scaled[col] = standard_scaler.fit_transform(np.array(df_scaled[col]).reshape(-1,1))\n",
    "df_scaled.head()"
   ]
  },
  {
   "cell_type": "markdown",
   "id": "73252411",
   "metadata": {},
   "source": [
    "- Based on the Analysis and Correlation results, the selected features for inclusion are `Income, CCAvg, Mortgage, Family, Education, CreditCard, CDAccount, Age, and Experience`."
   ]
  },
  {
   "cell_type": "code",
   "execution_count": 37,
   "id": "f5c42f16",
   "metadata": {},
   "outputs": [
    {
     "name": "stdout",
     "output_type": "stream",
     "text": [
      " Number of columns in our Features :  9\n"
     ]
    }
   ],
   "source": [
    "X =  df_scaled.drop(['Personal.Loan','Securities.Account','Online'],axis=1)\n",
    "y = df_scaled['Personal.Loan']\n",
    "\n",
    "print (\" Number of columns in our Features : \", X.shape[1])"
   ]
  },
  {
   "cell_type": "markdown",
   "id": "98e9ef7b",
   "metadata": {},
   "source": [
    "We currently have a total of 8 columns within our features."
   ]
  },
  {
   "cell_type": "code",
   "execution_count": 38,
   "id": "6b527f92",
   "metadata": {},
   "outputs": [
    {
     "data": {
      "text/plain": [
       "Index(['Age', 'Experience', 'Income', 'Family', 'CCAvg', 'Education',\n",
       "       'Mortgage', 'CD.Account', 'CreditCard'],\n",
       "      dtype='object')"
      ]
     },
     "execution_count": 38,
     "metadata": {},
     "output_type": "execute_result"
    }
   ],
   "source": [
    "X.columns"
   ]
  },
  {
   "cell_type": "markdown",
   "id": "2d8eb012",
   "metadata": {},
   "source": [
    "Splitting the Dataset into Training and Testing Subsets¶"
   ]
  },
  {
   "cell_type": "code",
   "execution_count": 39,
   "id": "0bfe458d",
   "metadata": {},
   "outputs": [],
   "source": [
    "X_train, X_test, y_train, y_test = train_test_split(X, y ,test_size=0.4, random_state= 42)"
   ]
  },
  {
   "cell_type": "markdown",
   "id": "444fc8e6",
   "metadata": {},
   "source": [
    "- **Upsampling¶**\n",
    "  \n",
    "- We previously identified our target variable as Personal Loan , \n",
    "\n",
    "- Our analysis indicates a significant bias towards one class, \n",
    "\n",
    "- with over three-fourths of our data assigned to class 0, totaling over 4500 records. \n",
    "\n",
    "- To address this class imbalance, we aim to implement upsampling for the minority class (class 1) in our dataset."
   ]
  },
  {
   "cell_type": "code",
   "execution_count": 43,
   "id": "055f1c24",
   "metadata": {},
   "outputs": [
    {
     "name": "stdout",
     "output_type": "stream",
     "text": [
      "Before UpSampling, counts of class '0': 2699 \n",
      "\n",
      "Before UpSampling, counts of class '1': 293 \n",
      "\n",
      "After UpSampling, counts of class '0': 2699 \n",
      "\n",
      "After UpSampling, counts of class '1': 2699 \n",
      "\n"
     ]
    }
   ],
   "source": [
    "from sklearn.utils import resample\n",
    "import pandas as pd\n",
    "\n",
    "# Combine X_train and y_train for easy handling\n",
    "train = pd.concat([X_train, y_train], axis=1)\n",
    "\n",
    "# Separate majority and minority classes\n",
    "majority_class = train[train['Personal.Loan'] == 0]\n",
    "minority_class = train[train['Personal.Loan'] == 1]\n",
    "\n",
    "# Print original class distribution\n",
    "print(\"Before UpSampling, counts of class '0':\", len(majority_class),\"\\n\")\n",
    "print(\"Before UpSampling, counts of class '1':\", len(minority_class), \"\\n\")\n",
    "\n",
    "# Upsample minority class\n",
    "minority_upsampled = resample(minority_class,\n",
    "                              replace=True,                 # sample with replacement\n",
    "                              n_samples=len(majority_class),# match majority class\n",
    "                              random_state=42)              # reproducible\n",
    "\n",
    "# Combine upsampled minority and majority class\n",
    "upsampled_train = pd.concat([majority_class, minority_upsampled])\n",
    "\n",
    "# Separate features and target\n",
    "X_train_upsampled = upsampled_train.drop('Personal.Loan', axis=1)\n",
    "y_train_upsampled = upsampled_train['Personal.Loan']\n",
    "\n",
    "# Print new class distribution\n",
    "print(\"After UpSampling, counts of class '0':\", sum(y_train_upsampled == 0),\"\\n\")\n",
    "print(\"After UpSampling, counts of class '1':\", sum(y_train_upsampled == 1), \"\\n\")\n",
    "\n"
   ]
  },
  {
   "cell_type": "markdown",
   "id": "516b926d",
   "metadata": {},
   "source": [
    "- Following the upsampling process, Our target column now exhibits a balanced distribution between the two classes. \n",
    "\n",
    "- With this class balance achieved, our dataset is now prepared for modeling\n",
    "---\n",
    "- Iterating through different values of min_samples_split and max_depth aims to identify the optimal combination that maximizes accuracy in the Decision Tree Classifier.¶"
   ]
  },
  {
   "cell_type": "code",
   "execution_count": 47,
   "id": "198aa36b",
   "metadata": {},
   "outputs": [
    {
     "data": {
      "application/vnd.plotly.v1+json": {
       "config": {
        "plotlyServerURL": "https://plot.ly"
       },
       "data": [
        {
         "mode": "lines",
         "name": "Train Accuracy",
         "type": "scatter",
         "x": [
          1,
          2,
          3,
          4,
          5,
          6,
          7,
          8,
          9,
          10,
          11,
          12,
          13,
          14,
          15,
          16,
          17,
          18,
          19,
          20,
          21,
          22,
          23,
          24,
          25,
          26,
          27,
          28,
          29,
          30,
          31,
          32,
          33,
          34,
          35,
          36,
          37,
          38,
          39,
          40,
          41,
          42,
          43,
          44,
          45,
          46,
          47,
          48,
          49
         ],
         "y": [
          0.8703223416080029,
          0.8862541682104483,
          0.9560948499444238,
          0.9664690626157836,
          0.9796220822526862,
          0.9864764727676918,
          0.9903668025194516,
          0.9931456094849944,
          0.9951834012597258,
          0.9975917006298629,
          0.9996294924045943,
          0.9998147462022972,
          1,
          1,
          1,
          1,
          1,
          1,
          1,
          1,
          1,
          1,
          1,
          1,
          1,
          1,
          1,
          1,
          1,
          1,
          1,
          1,
          1,
          1,
          1,
          1,
          1,
          1,
          1,
          1,
          1,
          1,
          1,
          1,
          1,
          1,
          1,
          1,
          1
         ]
        },
        {
         "mode": "lines",
         "name": "Test Accuracy",
         "type": "scatter",
         "x": [
          1,
          2,
          3,
          4,
          5,
          6,
          7,
          8,
          9,
          10,
          11,
          12,
          13,
          14,
          15,
          16,
          17,
          18,
          19,
          20,
          21,
          22,
          23,
          24,
          25,
          26,
          27,
          28,
          29,
          30,
          31,
          32,
          33,
          34,
          35,
          36,
          37,
          38,
          39,
          40,
          41,
          42,
          43,
          44,
          45,
          46,
          47,
          48,
          49
         ],
         "y": [
          0.8320802005012531,
          0.7989974937343358,
          0.9308270676691729,
          0.9578947368421052,
          0.9724310776942355,
          0.9719298245614035,
          0.974937343358396,
          0.9769423558897243,
          0.9789473684210527,
          0.981453634085213,
          0.9824561403508771,
          0.9834586466165414,
          0.9844611528822055,
          0.9844611528822055,
          0.9844611528822055,
          0.9844611528822055,
          0.9844611528822055,
          0.9844611528822055,
          0.9844611528822055,
          0.9844611528822055,
          0.9844611528822055,
          0.9844611528822055,
          0.9844611528822055,
          0.9844611528822055,
          0.9844611528822055,
          0.9844611528822055,
          0.9844611528822055,
          0.9844611528822055,
          0.9844611528822055,
          0.9844611528822055,
          0.9844611528822055,
          0.9844611528822055,
          0.9844611528822055,
          0.9844611528822055,
          0.9844611528822055,
          0.9844611528822055,
          0.9844611528822055,
          0.9844611528822055,
          0.9844611528822055,
          0.9844611528822055,
          0.9844611528822055,
          0.9844611528822055,
          0.9844611528822055,
          0.9844611528822055,
          0.9844611528822055,
          0.9844611528822055,
          0.9844611528822055,
          0.9844611528822055,
          0.9844611528822055
         ]
        }
       ],
       "layout": {
        "legend": {
         "x": 0.7,
         "y": 0.9
        },
        "template": {
         "data": {
          "bar": [
           {
            "error_x": {
             "color": "#2a3f5f"
            },
            "error_y": {
             "color": "#2a3f5f"
            },
            "marker": {
             "line": {
              "color": "#E5ECF6",
              "width": 0.5
             },
             "pattern": {
              "fillmode": "overlay",
              "size": 10,
              "solidity": 0.2
             }
            },
            "type": "bar"
           }
          ],
          "barpolar": [
           {
            "marker": {
             "line": {
              "color": "#E5ECF6",
              "width": 0.5
             },
             "pattern": {
              "fillmode": "overlay",
              "size": 10,
              "solidity": 0.2
             }
            },
            "type": "barpolar"
           }
          ],
          "carpet": [
           {
            "aaxis": {
             "endlinecolor": "#2a3f5f",
             "gridcolor": "white",
             "linecolor": "white",
             "minorgridcolor": "white",
             "startlinecolor": "#2a3f5f"
            },
            "baxis": {
             "endlinecolor": "#2a3f5f",
             "gridcolor": "white",
             "linecolor": "white",
             "minorgridcolor": "white",
             "startlinecolor": "#2a3f5f"
            },
            "type": "carpet"
           }
          ],
          "choropleth": [
           {
            "colorbar": {
             "outlinewidth": 0,
             "ticks": ""
            },
            "type": "choropleth"
           }
          ],
          "contour": [
           {
            "colorbar": {
             "outlinewidth": 0,
             "ticks": ""
            },
            "colorscale": [
             [
              0,
              "#0d0887"
             ],
             [
              0.1111111111111111,
              "#46039f"
             ],
             [
              0.2222222222222222,
              "#7201a8"
             ],
             [
              0.3333333333333333,
              "#9c179e"
             ],
             [
              0.4444444444444444,
              "#bd3786"
             ],
             [
              0.5555555555555556,
              "#d8576b"
             ],
             [
              0.6666666666666666,
              "#ed7953"
             ],
             [
              0.7777777777777778,
              "#fb9f3a"
             ],
             [
              0.8888888888888888,
              "#fdca26"
             ],
             [
              1,
              "#f0f921"
             ]
            ],
            "type": "contour"
           }
          ],
          "contourcarpet": [
           {
            "colorbar": {
             "outlinewidth": 0,
             "ticks": ""
            },
            "type": "contourcarpet"
           }
          ],
          "heatmap": [
           {
            "colorbar": {
             "outlinewidth": 0,
             "ticks": ""
            },
            "colorscale": [
             [
              0,
              "#0d0887"
             ],
             [
              0.1111111111111111,
              "#46039f"
             ],
             [
              0.2222222222222222,
              "#7201a8"
             ],
             [
              0.3333333333333333,
              "#9c179e"
             ],
             [
              0.4444444444444444,
              "#bd3786"
             ],
             [
              0.5555555555555556,
              "#d8576b"
             ],
             [
              0.6666666666666666,
              "#ed7953"
             ],
             [
              0.7777777777777778,
              "#fb9f3a"
             ],
             [
              0.8888888888888888,
              "#fdca26"
             ],
             [
              1,
              "#f0f921"
             ]
            ],
            "type": "heatmap"
           }
          ],
          "heatmapgl": [
           {
            "colorbar": {
             "outlinewidth": 0,
             "ticks": ""
            },
            "colorscale": [
             [
              0,
              "#0d0887"
             ],
             [
              0.1111111111111111,
              "#46039f"
             ],
             [
              0.2222222222222222,
              "#7201a8"
             ],
             [
              0.3333333333333333,
              "#9c179e"
             ],
             [
              0.4444444444444444,
              "#bd3786"
             ],
             [
              0.5555555555555556,
              "#d8576b"
             ],
             [
              0.6666666666666666,
              "#ed7953"
             ],
             [
              0.7777777777777778,
              "#fb9f3a"
             ],
             [
              0.8888888888888888,
              "#fdca26"
             ],
             [
              1,
              "#f0f921"
             ]
            ],
            "type": "heatmapgl"
           }
          ],
          "histogram": [
           {
            "marker": {
             "pattern": {
              "fillmode": "overlay",
              "size": 10,
              "solidity": 0.2
             }
            },
            "type": "histogram"
           }
          ],
          "histogram2d": [
           {
            "colorbar": {
             "outlinewidth": 0,
             "ticks": ""
            },
            "colorscale": [
             [
              0,
              "#0d0887"
             ],
             [
              0.1111111111111111,
              "#46039f"
             ],
             [
              0.2222222222222222,
              "#7201a8"
             ],
             [
              0.3333333333333333,
              "#9c179e"
             ],
             [
              0.4444444444444444,
              "#bd3786"
             ],
             [
              0.5555555555555556,
              "#d8576b"
             ],
             [
              0.6666666666666666,
              "#ed7953"
             ],
             [
              0.7777777777777778,
              "#fb9f3a"
             ],
             [
              0.8888888888888888,
              "#fdca26"
             ],
             [
              1,
              "#f0f921"
             ]
            ],
            "type": "histogram2d"
           }
          ],
          "histogram2dcontour": [
           {
            "colorbar": {
             "outlinewidth": 0,
             "ticks": ""
            },
            "colorscale": [
             [
              0,
              "#0d0887"
             ],
             [
              0.1111111111111111,
              "#46039f"
             ],
             [
              0.2222222222222222,
              "#7201a8"
             ],
             [
              0.3333333333333333,
              "#9c179e"
             ],
             [
              0.4444444444444444,
              "#bd3786"
             ],
             [
              0.5555555555555556,
              "#d8576b"
             ],
             [
              0.6666666666666666,
              "#ed7953"
             ],
             [
              0.7777777777777778,
              "#fb9f3a"
             ],
             [
              0.8888888888888888,
              "#fdca26"
             ],
             [
              1,
              "#f0f921"
             ]
            ],
            "type": "histogram2dcontour"
           }
          ],
          "mesh3d": [
           {
            "colorbar": {
             "outlinewidth": 0,
             "ticks": ""
            },
            "type": "mesh3d"
           }
          ],
          "parcoords": [
           {
            "line": {
             "colorbar": {
              "outlinewidth": 0,
              "ticks": ""
             }
            },
            "type": "parcoords"
           }
          ],
          "pie": [
           {
            "automargin": true,
            "type": "pie"
           }
          ],
          "scatter": [
           {
            "fillpattern": {
             "fillmode": "overlay",
             "size": 10,
             "solidity": 0.2
            },
            "type": "scatter"
           }
          ],
          "scatter3d": [
           {
            "line": {
             "colorbar": {
              "outlinewidth": 0,
              "ticks": ""
             }
            },
            "marker": {
             "colorbar": {
              "outlinewidth": 0,
              "ticks": ""
             }
            },
            "type": "scatter3d"
           }
          ],
          "scattercarpet": [
           {
            "marker": {
             "colorbar": {
              "outlinewidth": 0,
              "ticks": ""
             }
            },
            "type": "scattercarpet"
           }
          ],
          "scattergeo": [
           {
            "marker": {
             "colorbar": {
              "outlinewidth": 0,
              "ticks": ""
             }
            },
            "type": "scattergeo"
           }
          ],
          "scattergl": [
           {
            "marker": {
             "colorbar": {
              "outlinewidth": 0,
              "ticks": ""
             }
            },
            "type": "scattergl"
           }
          ],
          "scattermapbox": [
           {
            "marker": {
             "colorbar": {
              "outlinewidth": 0,
              "ticks": ""
             }
            },
            "type": "scattermapbox"
           }
          ],
          "scatterpolar": [
           {
            "marker": {
             "colorbar": {
              "outlinewidth": 0,
              "ticks": ""
             }
            },
            "type": "scatterpolar"
           }
          ],
          "scatterpolargl": [
           {
            "marker": {
             "colorbar": {
              "outlinewidth": 0,
              "ticks": ""
             }
            },
            "type": "scatterpolargl"
           }
          ],
          "scatterternary": [
           {
            "marker": {
             "colorbar": {
              "outlinewidth": 0,
              "ticks": ""
             }
            },
            "type": "scatterternary"
           }
          ],
          "surface": [
           {
            "colorbar": {
             "outlinewidth": 0,
             "ticks": ""
            },
            "colorscale": [
             [
              0,
              "#0d0887"
             ],
             [
              0.1111111111111111,
              "#46039f"
             ],
             [
              0.2222222222222222,
              "#7201a8"
             ],
             [
              0.3333333333333333,
              "#9c179e"
             ],
             [
              0.4444444444444444,
              "#bd3786"
             ],
             [
              0.5555555555555556,
              "#d8576b"
             ],
             [
              0.6666666666666666,
              "#ed7953"
             ],
             [
              0.7777777777777778,
              "#fb9f3a"
             ],
             [
              0.8888888888888888,
              "#fdca26"
             ],
             [
              1,
              "#f0f921"
             ]
            ],
            "type": "surface"
           }
          ],
          "table": [
           {
            "cells": {
             "fill": {
              "color": "#EBF0F8"
             },
             "line": {
              "color": "white"
             }
            },
            "header": {
             "fill": {
              "color": "#C8D4E3"
             },
             "line": {
              "color": "white"
             }
            },
            "type": "table"
           }
          ]
         },
         "layout": {
          "annotationdefaults": {
           "arrowcolor": "#2a3f5f",
           "arrowhead": 0,
           "arrowwidth": 1
          },
          "autotypenumbers": "strict",
          "coloraxis": {
           "colorbar": {
            "outlinewidth": 0,
            "ticks": ""
           }
          },
          "colorscale": {
           "diverging": [
            [
             0,
             "#8e0152"
            ],
            [
             0.1,
             "#c51b7d"
            ],
            [
             0.2,
             "#de77ae"
            ],
            [
             0.3,
             "#f1b6da"
            ],
            [
             0.4,
             "#fde0ef"
            ],
            [
             0.5,
             "#f7f7f7"
            ],
            [
             0.6,
             "#e6f5d0"
            ],
            [
             0.7,
             "#b8e186"
            ],
            [
             0.8,
             "#7fbc41"
            ],
            [
             0.9,
             "#4d9221"
            ],
            [
             1,
             "#276419"
            ]
           ],
           "sequential": [
            [
             0,
             "#0d0887"
            ],
            [
             0.1111111111111111,
             "#46039f"
            ],
            [
             0.2222222222222222,
             "#7201a8"
            ],
            [
             0.3333333333333333,
             "#9c179e"
            ],
            [
             0.4444444444444444,
             "#bd3786"
            ],
            [
             0.5555555555555556,
             "#d8576b"
            ],
            [
             0.6666666666666666,
             "#ed7953"
            ],
            [
             0.7777777777777778,
             "#fb9f3a"
            ],
            [
             0.8888888888888888,
             "#fdca26"
            ],
            [
             1,
             "#f0f921"
            ]
           ],
           "sequentialminus": [
            [
             0,
             "#0d0887"
            ],
            [
             0.1111111111111111,
             "#46039f"
            ],
            [
             0.2222222222222222,
             "#7201a8"
            ],
            [
             0.3333333333333333,
             "#9c179e"
            ],
            [
             0.4444444444444444,
             "#bd3786"
            ],
            [
             0.5555555555555556,
             "#d8576b"
            ],
            [
             0.6666666666666666,
             "#ed7953"
            ],
            [
             0.7777777777777778,
             "#fb9f3a"
            ],
            [
             0.8888888888888888,
             "#fdca26"
            ],
            [
             1,
             "#f0f921"
            ]
           ]
          },
          "colorway": [
           "#636efa",
           "#EF553B",
           "#00cc96",
           "#ab63fa",
           "#FFA15A",
           "#19d3f3",
           "#FF6692",
           "#B6E880",
           "#FF97FF",
           "#FECB52"
          ],
          "font": {
           "color": "#2a3f5f"
          },
          "geo": {
           "bgcolor": "white",
           "lakecolor": "white",
           "landcolor": "#E5ECF6",
           "showlakes": true,
           "showland": true,
           "subunitcolor": "white"
          },
          "hoverlabel": {
           "align": "left"
          },
          "hovermode": "closest",
          "mapbox": {
           "style": "light"
          },
          "paper_bgcolor": "white",
          "plot_bgcolor": "#E5ECF6",
          "polar": {
           "angularaxis": {
            "gridcolor": "white",
            "linecolor": "white",
            "ticks": ""
           },
           "bgcolor": "#E5ECF6",
           "radialaxis": {
            "gridcolor": "white",
            "linecolor": "white",
            "ticks": ""
           }
          },
          "scene": {
           "xaxis": {
            "backgroundcolor": "#E5ECF6",
            "gridcolor": "white",
            "gridwidth": 2,
            "linecolor": "white",
            "showbackground": true,
            "ticks": "",
            "zerolinecolor": "white"
           },
           "yaxis": {
            "backgroundcolor": "#E5ECF6",
            "gridcolor": "white",
            "gridwidth": 2,
            "linecolor": "white",
            "showbackground": true,
            "ticks": "",
            "zerolinecolor": "white"
           },
           "zaxis": {
            "backgroundcolor": "#E5ECF6",
            "gridcolor": "white",
            "gridwidth": 2,
            "linecolor": "white",
            "showbackground": true,
            "ticks": "",
            "zerolinecolor": "white"
           }
          },
          "shapedefaults": {
           "line": {
            "color": "#2a3f5f"
           }
          },
          "ternary": {
           "aaxis": {
            "gridcolor": "white",
            "linecolor": "white",
            "ticks": ""
           },
           "baxis": {
            "gridcolor": "white",
            "linecolor": "white",
            "ticks": ""
           },
           "bgcolor": "#E5ECF6",
           "caxis": {
            "gridcolor": "white",
            "linecolor": "white",
            "ticks": ""
           }
          },
          "title": {
           "x": 0.05
          },
          "xaxis": {
           "automargin": true,
           "gridcolor": "white",
           "linecolor": "white",
           "ticks": "",
           "title": {
            "standoff": 15
           },
           "zerolinecolor": "white",
           "zerolinewidth": 2
          },
          "yaxis": {
           "automargin": true,
           "gridcolor": "white",
           "linecolor": "white",
           "ticks": "",
           "title": {
            "standoff": 15
           },
           "zerolinecolor": "white",
           "zerolinewidth": 2
          }
         }
        },
        "title": {
         "text": "Max Depth vs. Accuracy"
        },
        "xaxis": {
         "title": {
          "text": "Max Depth"
         }
        },
        "yaxis": {
         "title": {
          "text": "Accuracy"
         }
        }
       }
      }
     },
     "metadata": {},
     "output_type": "display_data"
    }
   ],
   "source": [
    "max_depth_values = range(1, 50)\n",
    "\n",
    "# Lists to store performance metric scores\n",
    "train_scores = []\n",
    "test_scores = []\n",
    "\n",
    "for depth in max_depth_values:\n",
    "    clf = DecisionTreeClassifier(max_depth=depth, random_state=42)\n",
    "    clf.fit(X_train_upsampled, y_train_upsampled)\n",
    "\n",
    "    y_train_pred = clf.predict(X_train_upsampled)\n",
    "    train_scores.append(accuracy_score(y_train_upsampled, y_train_pred))\n",
    "\n",
    "    y_test_pred = clf.predict(X_test)\n",
    "    test_scores.append(accuracy_score(y_test, y_test_pred))\n",
    "\n",
    "# Create Plotly figure\n",
    "fig = go.Figure()\n",
    "\n",
    "# Add training accuracy trace\n",
    "fig.add_trace(go.Scatter(x=list(max_depth_values), y=train_scores, mode='lines', name='Train Accuracy'))\n",
    "\n",
    "# Add testing accuracy trace\n",
    "fig.add_trace(go.Scatter(x=list(max_depth_values), y=test_scores, mode='lines', name='Test Accuracy'))\n",
    "\n",
    "# Update layout\n",
    "fig.update_layout(\n",
    "    title='Max Depth vs. Accuracy',\n",
    "    xaxis=dict(title='Max Depth'),\n",
    "    yaxis=dict(title='Accuracy'),\n",
    "    legend=dict(x=0.7, y=0.9),\n",
    ")\n",
    "\n",
    "# Show the interactive plot\n",
    "fig.show()"
   ]
  },
  {
   "cell_type": "markdown",
   "id": "e3d1c45f",
   "metadata": {},
   "source": [
    "- Based on the graph above, the model achieves its highest testing accuracy at a max depth of 8. \n",
    "\n",
    "- Notably, the training accuracy at this depth is also very close to the testing accuracy, indicating that the model is not overfitting."
   ]
  },
  {
   "cell_type": "code",
   "execution_count": 48,
   "id": "1431ba1f",
   "metadata": {},
   "outputs": [
    {
     "data": {
      "application/vnd.plotly.v1+json": {
       "config": {
        "plotlyServerURL": "https://plot.ly"
       },
       "data": [
        {
         "mode": "lines",
         "name": "Train Accuracy",
         "type": "scatter",
         "x": [
          2,
          3,
          4,
          5,
          6,
          7,
          8,
          9,
          10,
          11,
          12,
          13,
          14,
          15,
          16,
          17,
          18,
          19,
          20,
          21,
          22,
          23,
          24,
          25,
          26,
          27,
          28,
          29
         ],
         "y": [
          1,
          1,
          1,
          1,
          1,
          0.99870322341608,
          0.99870322341608,
          0.99870322341608,
          0.9981474620229714,
          0.9981474620229714,
          0.9981474620229714,
          0.9981474620229714,
          0.9964801778436458,
          0.9964801778436458,
          0.9964801778436458,
          0.99610967024824,
          0.9959244164505372,
          0.9959244164505372,
          0.9957391626528344,
          0.9957391626528344,
          0.9953686550574287,
          0.9953686550574287,
          0.9953686550574287,
          0.9940718784735088,
          0.9940718784735088,
          0.9931456094849944,
          0.992404594294183,
          0.992404594294183
         ]
        },
        {
         "mode": "lines",
         "name": "Test Accuracy",
         "type": "scatter",
         "x": [
          2,
          3,
          4,
          5,
          6,
          7,
          8,
          9,
          10,
          11,
          12,
          13,
          14,
          15,
          16,
          17,
          18,
          19,
          20,
          21,
          22,
          23,
          24,
          25,
          26,
          27,
          28,
          29
         ],
         "y": [
          0.9844611528822055,
          0.9844611528822055,
          0.9844611528822055,
          0.9844611528822055,
          0.9844611528822055,
          0.9819548872180451,
          0.9819548872180451,
          0.9819548872180451,
          0.981453634085213,
          0.981453634085213,
          0.981453634085213,
          0.981453634085213,
          0.9789473684210527,
          0.9789473684210527,
          0.9789473684210527,
          0.9789473684210527,
          0.9794486215538847,
          0.9794486215538847,
          0.9784461152882206,
          0.9784461152882206,
          0.9784461152882206,
          0.9784461152882206,
          0.9784461152882206,
          0.9774436090225563,
          0.9774436090225563,
          0.9774436090225563,
          0.9779448621553885,
          0.9779448621553885
         ]
        }
       ],
       "layout": {
        "legend": {
         "x": 0.7,
         "y": 0.9
        },
        "template": {
         "data": {
          "bar": [
           {
            "error_x": {
             "color": "#2a3f5f"
            },
            "error_y": {
             "color": "#2a3f5f"
            },
            "marker": {
             "line": {
              "color": "#E5ECF6",
              "width": 0.5
             },
             "pattern": {
              "fillmode": "overlay",
              "size": 10,
              "solidity": 0.2
             }
            },
            "type": "bar"
           }
          ],
          "barpolar": [
           {
            "marker": {
             "line": {
              "color": "#E5ECF6",
              "width": 0.5
             },
             "pattern": {
              "fillmode": "overlay",
              "size": 10,
              "solidity": 0.2
             }
            },
            "type": "barpolar"
           }
          ],
          "carpet": [
           {
            "aaxis": {
             "endlinecolor": "#2a3f5f",
             "gridcolor": "white",
             "linecolor": "white",
             "minorgridcolor": "white",
             "startlinecolor": "#2a3f5f"
            },
            "baxis": {
             "endlinecolor": "#2a3f5f",
             "gridcolor": "white",
             "linecolor": "white",
             "minorgridcolor": "white",
             "startlinecolor": "#2a3f5f"
            },
            "type": "carpet"
           }
          ],
          "choropleth": [
           {
            "colorbar": {
             "outlinewidth": 0,
             "ticks": ""
            },
            "type": "choropleth"
           }
          ],
          "contour": [
           {
            "colorbar": {
             "outlinewidth": 0,
             "ticks": ""
            },
            "colorscale": [
             [
              0,
              "#0d0887"
             ],
             [
              0.1111111111111111,
              "#46039f"
             ],
             [
              0.2222222222222222,
              "#7201a8"
             ],
             [
              0.3333333333333333,
              "#9c179e"
             ],
             [
              0.4444444444444444,
              "#bd3786"
             ],
             [
              0.5555555555555556,
              "#d8576b"
             ],
             [
              0.6666666666666666,
              "#ed7953"
             ],
             [
              0.7777777777777778,
              "#fb9f3a"
             ],
             [
              0.8888888888888888,
              "#fdca26"
             ],
             [
              1,
              "#f0f921"
             ]
            ],
            "type": "contour"
           }
          ],
          "contourcarpet": [
           {
            "colorbar": {
             "outlinewidth": 0,
             "ticks": ""
            },
            "type": "contourcarpet"
           }
          ],
          "heatmap": [
           {
            "colorbar": {
             "outlinewidth": 0,
             "ticks": ""
            },
            "colorscale": [
             [
              0,
              "#0d0887"
             ],
             [
              0.1111111111111111,
              "#46039f"
             ],
             [
              0.2222222222222222,
              "#7201a8"
             ],
             [
              0.3333333333333333,
              "#9c179e"
             ],
             [
              0.4444444444444444,
              "#bd3786"
             ],
             [
              0.5555555555555556,
              "#d8576b"
             ],
             [
              0.6666666666666666,
              "#ed7953"
             ],
             [
              0.7777777777777778,
              "#fb9f3a"
             ],
             [
              0.8888888888888888,
              "#fdca26"
             ],
             [
              1,
              "#f0f921"
             ]
            ],
            "type": "heatmap"
           }
          ],
          "heatmapgl": [
           {
            "colorbar": {
             "outlinewidth": 0,
             "ticks": ""
            },
            "colorscale": [
             [
              0,
              "#0d0887"
             ],
             [
              0.1111111111111111,
              "#46039f"
             ],
             [
              0.2222222222222222,
              "#7201a8"
             ],
             [
              0.3333333333333333,
              "#9c179e"
             ],
             [
              0.4444444444444444,
              "#bd3786"
             ],
             [
              0.5555555555555556,
              "#d8576b"
             ],
             [
              0.6666666666666666,
              "#ed7953"
             ],
             [
              0.7777777777777778,
              "#fb9f3a"
             ],
             [
              0.8888888888888888,
              "#fdca26"
             ],
             [
              1,
              "#f0f921"
             ]
            ],
            "type": "heatmapgl"
           }
          ],
          "histogram": [
           {
            "marker": {
             "pattern": {
              "fillmode": "overlay",
              "size": 10,
              "solidity": 0.2
             }
            },
            "type": "histogram"
           }
          ],
          "histogram2d": [
           {
            "colorbar": {
             "outlinewidth": 0,
             "ticks": ""
            },
            "colorscale": [
             [
              0,
              "#0d0887"
             ],
             [
              0.1111111111111111,
              "#46039f"
             ],
             [
              0.2222222222222222,
              "#7201a8"
             ],
             [
              0.3333333333333333,
              "#9c179e"
             ],
             [
              0.4444444444444444,
              "#bd3786"
             ],
             [
              0.5555555555555556,
              "#d8576b"
             ],
             [
              0.6666666666666666,
              "#ed7953"
             ],
             [
              0.7777777777777778,
              "#fb9f3a"
             ],
             [
              0.8888888888888888,
              "#fdca26"
             ],
             [
              1,
              "#f0f921"
             ]
            ],
            "type": "histogram2d"
           }
          ],
          "histogram2dcontour": [
           {
            "colorbar": {
             "outlinewidth": 0,
             "ticks": ""
            },
            "colorscale": [
             [
              0,
              "#0d0887"
             ],
             [
              0.1111111111111111,
              "#46039f"
             ],
             [
              0.2222222222222222,
              "#7201a8"
             ],
             [
              0.3333333333333333,
              "#9c179e"
             ],
             [
              0.4444444444444444,
              "#bd3786"
             ],
             [
              0.5555555555555556,
              "#d8576b"
             ],
             [
              0.6666666666666666,
              "#ed7953"
             ],
             [
              0.7777777777777778,
              "#fb9f3a"
             ],
             [
              0.8888888888888888,
              "#fdca26"
             ],
             [
              1,
              "#f0f921"
             ]
            ],
            "type": "histogram2dcontour"
           }
          ],
          "mesh3d": [
           {
            "colorbar": {
             "outlinewidth": 0,
             "ticks": ""
            },
            "type": "mesh3d"
           }
          ],
          "parcoords": [
           {
            "line": {
             "colorbar": {
              "outlinewidth": 0,
              "ticks": ""
             }
            },
            "type": "parcoords"
           }
          ],
          "pie": [
           {
            "automargin": true,
            "type": "pie"
           }
          ],
          "scatter": [
           {
            "fillpattern": {
             "fillmode": "overlay",
             "size": 10,
             "solidity": 0.2
            },
            "type": "scatter"
           }
          ],
          "scatter3d": [
           {
            "line": {
             "colorbar": {
              "outlinewidth": 0,
              "ticks": ""
             }
            },
            "marker": {
             "colorbar": {
              "outlinewidth": 0,
              "ticks": ""
             }
            },
            "type": "scatter3d"
           }
          ],
          "scattercarpet": [
           {
            "marker": {
             "colorbar": {
              "outlinewidth": 0,
              "ticks": ""
             }
            },
            "type": "scattercarpet"
           }
          ],
          "scattergeo": [
           {
            "marker": {
             "colorbar": {
              "outlinewidth": 0,
              "ticks": ""
             }
            },
            "type": "scattergeo"
           }
          ],
          "scattergl": [
           {
            "marker": {
             "colorbar": {
              "outlinewidth": 0,
              "ticks": ""
             }
            },
            "type": "scattergl"
           }
          ],
          "scattermapbox": [
           {
            "marker": {
             "colorbar": {
              "outlinewidth": 0,
              "ticks": ""
             }
            },
            "type": "scattermapbox"
           }
          ],
          "scatterpolar": [
           {
            "marker": {
             "colorbar": {
              "outlinewidth": 0,
              "ticks": ""
             }
            },
            "type": "scatterpolar"
           }
          ],
          "scatterpolargl": [
           {
            "marker": {
             "colorbar": {
              "outlinewidth": 0,
              "ticks": ""
             }
            },
            "type": "scatterpolargl"
           }
          ],
          "scatterternary": [
           {
            "marker": {
             "colorbar": {
              "outlinewidth": 0,
              "ticks": ""
             }
            },
            "type": "scatterternary"
           }
          ],
          "surface": [
           {
            "colorbar": {
             "outlinewidth": 0,
             "ticks": ""
            },
            "colorscale": [
             [
              0,
              "#0d0887"
             ],
             [
              0.1111111111111111,
              "#46039f"
             ],
             [
              0.2222222222222222,
              "#7201a8"
             ],
             [
              0.3333333333333333,
              "#9c179e"
             ],
             [
              0.4444444444444444,
              "#bd3786"
             ],
             [
              0.5555555555555556,
              "#d8576b"
             ],
             [
              0.6666666666666666,
              "#ed7953"
             ],
             [
              0.7777777777777778,
              "#fb9f3a"
             ],
             [
              0.8888888888888888,
              "#fdca26"
             ],
             [
              1,
              "#f0f921"
             ]
            ],
            "type": "surface"
           }
          ],
          "table": [
           {
            "cells": {
             "fill": {
              "color": "#EBF0F8"
             },
             "line": {
              "color": "white"
             }
            },
            "header": {
             "fill": {
              "color": "#C8D4E3"
             },
             "line": {
              "color": "white"
             }
            },
            "type": "table"
           }
          ]
         },
         "layout": {
          "annotationdefaults": {
           "arrowcolor": "#2a3f5f",
           "arrowhead": 0,
           "arrowwidth": 1
          },
          "autotypenumbers": "strict",
          "coloraxis": {
           "colorbar": {
            "outlinewidth": 0,
            "ticks": ""
           }
          },
          "colorscale": {
           "diverging": [
            [
             0,
             "#8e0152"
            ],
            [
             0.1,
             "#c51b7d"
            ],
            [
             0.2,
             "#de77ae"
            ],
            [
             0.3,
             "#f1b6da"
            ],
            [
             0.4,
             "#fde0ef"
            ],
            [
             0.5,
             "#f7f7f7"
            ],
            [
             0.6,
             "#e6f5d0"
            ],
            [
             0.7,
             "#b8e186"
            ],
            [
             0.8,
             "#7fbc41"
            ],
            [
             0.9,
             "#4d9221"
            ],
            [
             1,
             "#276419"
            ]
           ],
           "sequential": [
            [
             0,
             "#0d0887"
            ],
            [
             0.1111111111111111,
             "#46039f"
            ],
            [
             0.2222222222222222,
             "#7201a8"
            ],
            [
             0.3333333333333333,
             "#9c179e"
            ],
            [
             0.4444444444444444,
             "#bd3786"
            ],
            [
             0.5555555555555556,
             "#d8576b"
            ],
            [
             0.6666666666666666,
             "#ed7953"
            ],
            [
             0.7777777777777778,
             "#fb9f3a"
            ],
            [
             0.8888888888888888,
             "#fdca26"
            ],
            [
             1,
             "#f0f921"
            ]
           ],
           "sequentialminus": [
            [
             0,
             "#0d0887"
            ],
            [
             0.1111111111111111,
             "#46039f"
            ],
            [
             0.2222222222222222,
             "#7201a8"
            ],
            [
             0.3333333333333333,
             "#9c179e"
            ],
            [
             0.4444444444444444,
             "#bd3786"
            ],
            [
             0.5555555555555556,
             "#d8576b"
            ],
            [
             0.6666666666666666,
             "#ed7953"
            ],
            [
             0.7777777777777778,
             "#fb9f3a"
            ],
            [
             0.8888888888888888,
             "#fdca26"
            ],
            [
             1,
             "#f0f921"
            ]
           ]
          },
          "colorway": [
           "#636efa",
           "#EF553B",
           "#00cc96",
           "#ab63fa",
           "#FFA15A",
           "#19d3f3",
           "#FF6692",
           "#B6E880",
           "#FF97FF",
           "#FECB52"
          ],
          "font": {
           "color": "#2a3f5f"
          },
          "geo": {
           "bgcolor": "white",
           "lakecolor": "white",
           "landcolor": "#E5ECF6",
           "showlakes": true,
           "showland": true,
           "subunitcolor": "white"
          },
          "hoverlabel": {
           "align": "left"
          },
          "hovermode": "closest",
          "mapbox": {
           "style": "light"
          },
          "paper_bgcolor": "white",
          "plot_bgcolor": "#E5ECF6",
          "polar": {
           "angularaxis": {
            "gridcolor": "white",
            "linecolor": "white",
            "ticks": ""
           },
           "bgcolor": "#E5ECF6",
           "radialaxis": {
            "gridcolor": "white",
            "linecolor": "white",
            "ticks": ""
           }
          },
          "scene": {
           "xaxis": {
            "backgroundcolor": "#E5ECF6",
            "gridcolor": "white",
            "gridwidth": 2,
            "linecolor": "white",
            "showbackground": true,
            "ticks": "",
            "zerolinecolor": "white"
           },
           "yaxis": {
            "backgroundcolor": "#E5ECF6",
            "gridcolor": "white",
            "gridwidth": 2,
            "linecolor": "white",
            "showbackground": true,
            "ticks": "",
            "zerolinecolor": "white"
           },
           "zaxis": {
            "backgroundcolor": "#E5ECF6",
            "gridcolor": "white",
            "gridwidth": 2,
            "linecolor": "white",
            "showbackground": true,
            "ticks": "",
            "zerolinecolor": "white"
           }
          },
          "shapedefaults": {
           "line": {
            "color": "#2a3f5f"
           }
          },
          "ternary": {
           "aaxis": {
            "gridcolor": "white",
            "linecolor": "white",
            "ticks": ""
           },
           "baxis": {
            "gridcolor": "white",
            "linecolor": "white",
            "ticks": ""
           },
           "bgcolor": "#E5ECF6",
           "caxis": {
            "gridcolor": "white",
            "linecolor": "white",
            "ticks": ""
           }
          },
          "title": {
           "x": 0.05
          },
          "xaxis": {
           "automargin": true,
           "gridcolor": "white",
           "linecolor": "white",
           "ticks": "",
           "title": {
            "standoff": 15
           },
           "zerolinecolor": "white",
           "zerolinewidth": 2
          },
          "yaxis": {
           "automargin": true,
           "gridcolor": "white",
           "linecolor": "white",
           "ticks": "",
           "title": {
            "standoff": 15
           },
           "zerolinecolor": "white",
           "zerolinewidth": 2
          }
         }
        },
        "title": {
         "text": "Min Samples Split vs. Accuracy"
        },
        "xaxis": {
         "title": {
          "text": "Min Samples Split"
         }
        },
        "yaxis": {
         "title": {
          "text": "Accuracy"
         }
        }
       }
      }
     },
     "metadata": {},
     "output_type": "display_data"
    }
   ],
   "source": [
    "min_samples_split_values = range(2, 30)  # Example range for min_samples_split\n",
    "\n",
    "# Lists to store performance metric scores\n",
    "train_scores = []\n",
    "test_scores = []\n",
    "\n",
    "for split in min_samples_split_values:\n",
    "    clf = DecisionTreeClassifier(min_samples_split=split, random_state=42)\n",
    "    clf.fit(X_train_upsampled, y_train_upsampled)\n",
    "\n",
    "    y_train_pred = clf.predict(X_train_upsampled)\n",
    "    train_scores.append(accuracy_score(y_train_upsampled, y_train_pred))\n",
    "\n",
    "    y_test_pred = clf.predict(X_test)\n",
    "    test_scores.append(accuracy_score(y_test, y_test_pred))\n",
    "\n",
    "fig = go.Figure()\n",
    "\n",
    "# Add training accuracy trace\n",
    "fig.add_trace(go.Scatter(x=list(min_samples_split_values), y=train_scores, mode='lines', name='Train Accuracy'))\n",
    "\n",
    "# Add testing accuracy trace\n",
    "fig.add_trace(go.Scatter(x=list(min_samples_split_values), y=test_scores, mode='lines', name='Test Accuracy'))\n",
    "\n",
    "# Update layout\n",
    "fig.update_layout(\n",
    "    title='Min Samples Split vs. Accuracy',\n",
    "    xaxis=dict(title='Min Samples Split'),\n",
    "    yaxis=dict(title='Accuracy'),\n",
    "    legend=dict(x=0.7, y=0.9),\n",
    ")\n",
    "\n",
    "# Show the interactive plot\n",
    "fig.show()"
   ]
  },
  {
   "cell_type": "markdown",
   "id": "7b9ca82b",
   "metadata": {},
   "source": [
    "- Additionally, from the graph portraying min_samples, it's evident that min_samples = 8 achieves the highest testing accuracy. \n",
    "\n",
    "- Moreover, it maintains a reasonably good training accuracy, implying it could be the optimal value to mitigate overfitting.\n",
    "\n",
    "- Creating a DecisionTreeClassifier instance with :\n",
    "     - Maximum depth = 8\n",
    "     - Minnimum sample split = 8."
   ]
  },
  {
   "cell_type": "code",
   "execution_count": 49,
   "id": "16dc831e",
   "metadata": {},
   "outputs": [],
   "source": [
    "Decision_Tree = DecisionTreeClassifier(max_depth=8, min_samples_split=8,criterion='entropy', random_state=42)"
   ]
  },
  {
   "cell_type": "code",
   "execution_count": 50,
   "id": "491207ea",
   "metadata": {},
   "outputs": [
    {
     "data": {
      "text/html": [
       "<style>#sk-container-id-1 {color: black;}#sk-container-id-1 pre{padding: 0;}#sk-container-id-1 div.sk-toggleable {background-color: white;}#sk-container-id-1 label.sk-toggleable__label {cursor: pointer;display: block;width: 100%;margin-bottom: 0;padding: 0.3em;box-sizing: border-box;text-align: center;}#sk-container-id-1 label.sk-toggleable__label-arrow:before {content: \"▸\";float: left;margin-right: 0.25em;color: #696969;}#sk-container-id-1 label.sk-toggleable__label-arrow:hover:before {color: black;}#sk-container-id-1 div.sk-estimator:hover label.sk-toggleable__label-arrow:before {color: black;}#sk-container-id-1 div.sk-toggleable__content {max-height: 0;max-width: 0;overflow: hidden;text-align: left;background-color: #f0f8ff;}#sk-container-id-1 div.sk-toggleable__content pre {margin: 0.2em;color: black;border-radius: 0.25em;background-color: #f0f8ff;}#sk-container-id-1 input.sk-toggleable__control:checked~div.sk-toggleable__content {max-height: 200px;max-width: 100%;overflow: auto;}#sk-container-id-1 input.sk-toggleable__control:checked~label.sk-toggleable__label-arrow:before {content: \"▾\";}#sk-container-id-1 div.sk-estimator input.sk-toggleable__control:checked~label.sk-toggleable__label {background-color: #d4ebff;}#sk-container-id-1 div.sk-label input.sk-toggleable__control:checked~label.sk-toggleable__label {background-color: #d4ebff;}#sk-container-id-1 input.sk-hidden--visually {border: 0;clip: rect(1px 1px 1px 1px);clip: rect(1px, 1px, 1px, 1px);height: 1px;margin: -1px;overflow: hidden;padding: 0;position: absolute;width: 1px;}#sk-container-id-1 div.sk-estimator {font-family: monospace;background-color: #f0f8ff;border: 1px dotted black;border-radius: 0.25em;box-sizing: border-box;margin-bottom: 0.5em;}#sk-container-id-1 div.sk-estimator:hover {background-color: #d4ebff;}#sk-container-id-1 div.sk-parallel-item::after {content: \"\";width: 100%;border-bottom: 1px solid gray;flex-grow: 1;}#sk-container-id-1 div.sk-label:hover label.sk-toggleable__label {background-color: #d4ebff;}#sk-container-id-1 div.sk-serial::before {content: \"\";position: absolute;border-left: 1px solid gray;box-sizing: border-box;top: 0;bottom: 0;left: 50%;z-index: 0;}#sk-container-id-1 div.sk-serial {display: flex;flex-direction: column;align-items: center;background-color: white;padding-right: 0.2em;padding-left: 0.2em;position: relative;}#sk-container-id-1 div.sk-item {position: relative;z-index: 1;}#sk-container-id-1 div.sk-parallel {display: flex;align-items: stretch;justify-content: center;background-color: white;position: relative;}#sk-container-id-1 div.sk-item::before, #sk-container-id-1 div.sk-parallel-item::before {content: \"\";position: absolute;border-left: 1px solid gray;box-sizing: border-box;top: 0;bottom: 0;left: 50%;z-index: -1;}#sk-container-id-1 div.sk-parallel-item {display: flex;flex-direction: column;z-index: 1;position: relative;background-color: white;}#sk-container-id-1 div.sk-parallel-item:first-child::after {align-self: flex-end;width: 50%;}#sk-container-id-1 div.sk-parallel-item:last-child::after {align-self: flex-start;width: 50%;}#sk-container-id-1 div.sk-parallel-item:only-child::after {width: 0;}#sk-container-id-1 div.sk-dashed-wrapped {border: 1px dashed gray;margin: 0 0.4em 0.5em 0.4em;box-sizing: border-box;padding-bottom: 0.4em;background-color: white;}#sk-container-id-1 div.sk-label label {font-family: monospace;font-weight: bold;display: inline-block;line-height: 1.2em;}#sk-container-id-1 div.sk-label-container {text-align: center;}#sk-container-id-1 div.sk-container {/* jupyter's `normalize.less` sets `[hidden] { display: none; }` but bootstrap.min.css set `[hidden] { display: none !important; }` so we also need the `!important` here to be able to override the default hidden behavior on the sphinx rendered scikit-learn.org. See: https://github.com/scikit-learn/scikit-learn/issues/21755 */display: inline-block !important;position: relative;}#sk-container-id-1 div.sk-text-repr-fallback {display: none;}</style><div id=\"sk-container-id-1\" class=\"sk-top-container\"><div class=\"sk-text-repr-fallback\"><pre>DecisionTreeClassifier(criterion=&#x27;entropy&#x27;, max_depth=8, min_samples_split=8,\n",
       "                       random_state=42)</pre><b>In a Jupyter environment, please rerun this cell to show the HTML representation or trust the notebook. <br />On GitHub, the HTML representation is unable to render, please try loading this page with nbviewer.org.</b></div><div class=\"sk-container\" hidden><div class=\"sk-item\"><div class=\"sk-estimator sk-toggleable\"><input class=\"sk-toggleable__control sk-hidden--visually\" id=\"sk-estimator-id-1\" type=\"checkbox\" checked><label for=\"sk-estimator-id-1\" class=\"sk-toggleable__label sk-toggleable__label-arrow\">DecisionTreeClassifier</label><div class=\"sk-toggleable__content\"><pre>DecisionTreeClassifier(criterion=&#x27;entropy&#x27;, max_depth=8, min_samples_split=8,\n",
       "                       random_state=42)</pre></div></div></div></div></div>"
      ],
      "text/plain": [
       "DecisionTreeClassifier(criterion='entropy', max_depth=8, min_samples_split=8,\n",
       "                       random_state=42)"
      ]
     },
     "execution_count": 50,
     "metadata": {},
     "output_type": "execute_result"
    }
   ],
   "source": [
    "Decision_Tree.fit(X_train_upsampled, y_train_upsampled)"
   ]
  },
  {
   "cell_type": "code",
   "execution_count": 51,
   "id": "52dc2c14",
   "metadata": {},
   "outputs": [
    {
     "name": "stdout",
     "output_type": "stream",
     "text": [
      " Decision Tree Training Accuracy : 99.0\n",
      " Decision Tree Testing Accuracy : 98.0\n"
     ]
    }
   ],
   "source": [
    "y_pred_train = Decision_Tree.predict(X_train_upsampled)\n",
    "y_pred_test = Decision_Tree.predict(X_test)\n",
    "train_accuracy = accuracy_score(y_train_upsampled, y_pred_train)\n",
    "print(\" Decision Tree Training Accuracy :\" ,round(train_accuracy,2)*100)\n",
    "\n",
    "test_accuracy = accuracy_score(y_test, y_pred_test)\n",
    "print(\" Decision Tree Testing Accuracy :\" ,round(test_accuracy,2)*100)"
   ]
  },
  {
   "cell_type": "markdown",
   "id": "e741301b",
   "metadata": {},
   "source": [
    "- The notable difference between the training accuracy (99%) and testing accuracy (98%) could suggest potential overfitting. \n",
    "\n",
    "- Nevertheless, in this scenario, the marginal gap (1%) implies the model performs well \n",
    "in generalizing to unseen data without substantial overfitting.\n",
    "\n",
    "- To further confirm this observation, let's assess the model's performance using cross-validation scores."
   ]
  },
  {
   "cell_type": "code",
   "execution_count": 61,
   "id": "3488eba1",
   "metadata": {},
   "outputs": [
    {
     "name": "stdout",
     "output_type": "stream",
     "text": [
      "Cross-Validation Scores on Training Data:   [0.99166667 0.98981481 0.98981481 0.9823911  0.98609824]\n",
      "\n",
      "Mean Accuracy from Cross-Validation :  0.9879571276559227\n"
     ]
    }
   ],
   "source": [
    "cv_scores_train = cross_val_score(Decision_Tree, X_train_upsampled, y_train_upsampled, cv=5, scoring='accuracy')\n",
    "print(\"Cross-Validation Scores on Training Data:  \", cv_scores_train)\n",
    "print(\"\\n\" \"Mean Accuracy from Cross-Validation : \", cv_scores_train.mean())"
   ]
  },
  {
   "cell_type": "markdown",
   "id": "5bd29473",
   "metadata": {},
   "source": [
    "## Based on the Cross Validation values f 5 folds :\n",
    "\n",
    "- The individual cross-validation scores indicate that the model performed well consistently across different subsets of the training data, \n",
    "- with accuracy scores ranging from approximately 97.7% to 98.7% on each fold.\n",
    "\n",
    "- The mean accuracy of approximately 98.3% suggests that the model, on average, achieved an accuracy of around 98.3% across the different cross-validation folds. \n",
    "- Overall, these results indicate that the model is performing well and generalizes effectively to unseen subsets of the training data, achieving high accuracy across multiple data splits during cross-validation.\n",
    "---\n",
    "- To further validate the model's performance, let's examine its Confusion Matrix and Classification Report."
   ]
  },
  {
   "cell_type": "code",
   "execution_count": 57,
   "id": "2d392a3f",
   "metadata": {},
   "outputs": [
    {
     "data": {
      "text/html": [
       "<div>\n",
       "<style scoped>\n",
       "    .dataframe tbody tr th:only-of-type {\n",
       "        vertical-align: middle;\n",
       "    }\n",
       "\n",
       "    .dataframe tbody tr th {\n",
       "        vertical-align: top;\n",
       "    }\n",
       "\n",
       "    .dataframe thead th {\n",
       "        text-align: right;\n",
       "    }\n",
       "</style>\n",
       "<table border=\"1\" class=\"dataframe\">\n",
       "  <thead>\n",
       "    <tr style=\"text-align: right;\">\n",
       "      <th></th>\n",
       "      <th>Predicted Negative</th>\n",
       "      <th>Predicted Positive</th>\n",
       "    </tr>\n",
       "  </thead>\n",
       "  <tbody>\n",
       "    <tr>\n",
       "      <th>Actual Negative</th>\n",
       "      <td>1781</td>\n",
       "      <td>27</td>\n",
       "    </tr>\n",
       "    <tr>\n",
       "      <th>Actual Positive</th>\n",
       "      <td>16</td>\n",
       "      <td>171</td>\n",
       "    </tr>\n",
       "  </tbody>\n",
       "</table>\n",
       "</div>"
      ],
      "text/plain": [
       "                 Predicted Negative  Predicted Positive\n",
       "Actual Negative                1781                  27\n",
       "Actual Positive                  16                 171"
      ]
     },
     "metadata": {},
     "output_type": "display_data"
    }
   ],
   "source": [
    "conf_matrix = confusion_matrix(y_test, y_pred_test)\n",
    "\n",
    "# Add labels for better understanding\n",
    "tn, fp, fn, tp = conf_matrix.ravel()\n",
    "display( pd.DataFrame(conf_matrix, columns=['Predicted Negative', 'Predicted Positive'], index=['Actual Negative', 'Actual Positive']))"
   ]
  },
  {
   "cell_type": "markdown",
   "id": "2fcd4495",
   "metadata": {},
   "source": [
    "## Based on this Confusion matrix Evaluation :\n",
    "---\n",
    "- 1780 ,instances were correctly predicted as class 0 (True Negatives).\n",
    "\n",
    "- 175 ,instances were correctly predicted as class 1 (True Positives).\n",
    "\n",
    "- 28 instances were predicted as class 1 but were actually class 0 (False Positives).\n",
    "\n",
    "- 12 instances were predicted as class 0 but were actually class 1 (False Negatives)"
   ]
  },
  {
   "cell_type": "code",
   "execution_count": 58,
   "id": "a93b852f",
   "metadata": {},
   "outputs": [
    {
     "name": "stdout",
     "output_type": "stream",
     "text": [
      "Classification Report : \n",
      "               precision    recall  f1-score   support\n",
      "\n",
      "           0       0.99      0.99      0.99      1808\n",
      "           1       0.86      0.91      0.89       187\n",
      "\n",
      "    accuracy                           0.98      1995\n",
      "   macro avg       0.93      0.95      0.94      1995\n",
      "weighted avg       0.98      0.98      0.98      1995\n",
      "\n"
     ]
    }
   ],
   "source": [
    "print(\"Classification Report : \\n\" ,classification_report(y_test, y_pred_test))"
   ]
  },
  {
   "cell_type": "markdown",
   "id": "656f9e9b",
   "metadata": {},
   "source": [
    "**Based on the insights gained from the confusion matrix and classification report, we can draw the following conclusions :**\n",
    "\n",
    "- Out of 187 entries for class 1, the model predicted 12 wrong.\n",
    "\n",
    "- Out of 1780 entries for class 0, the model predicted 28 wrong."
   ]
  },
  {
   "cell_type": "code",
   "execution_count": 67,
   "id": "3948732b",
   "metadata": {},
   "outputs": [
    {
     "data": {
      "image/png": "[encoded data removed]",
      "text/plain": [
       "<Figure size 1000x600 with 1 Axes>"
      ]
     },
     "metadata": {},
     "output_type": "display_data"
    }
   ],
   "source": [
    "importances = pd.Series(Decision_Tree.feature_importances_, index=X.columns)\n",
    "importances = importances.sort_values(ascending=False)\n",
    "\n",
    "plt.figure(figsize=(10,6))\n",
    "sns.barplot(x=importances[:10], y=importances.index[:10])\n",
    "plt.title(\"Top 10 Important Features - Decision Tree\")\n",
    "plt.show()\n"
   ]
  },
  {
   "cell_type": "markdown",
   "id": "1d5becbf",
   "metadata": {},
   "source": [
    "- Income is by far the most influential feature in predicting personal loan acceptance.\n",
    "\n",
    "- Credit card average spending (CCAvg), Family size, and Education level are also strong predictors.\n",
    "\n",
    "- Features like Mortgage, CreditCard, and CD.Account contribute very little to the decision-making process in this tree.\n",
    "\n"
   ]
  }
 ],
 "metadata": {
  "kernelspec": {
   "display_name": "base",
   "language": "python",
   "name": "python3"
  },
  "language_info": {
   "codemirror_mode": {
    "name": "ipython",
    "version": 3
   },
   "file_extension": ".py",
   "mimetype": "text/x-python",
   "name": "python",
   "nbconvert_exporter": "python",
   "pygments_lexer": "ipython3",
   "version": "3.11.4"
  }
 },
 "nbformat": 4,
 "nbformat_minor": 5
}
